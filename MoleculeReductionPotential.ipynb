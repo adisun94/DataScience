{
 "cells": [
  {
   "cell_type": "code",
   "execution_count": 1,
   "id": "f2cf99b7",
   "metadata": {},
   "outputs": [],
   "source": [
    "import pandas as pd\n",
    "import seaborn as sns\n",
    "import numpy as np\n",
    "import matplotlib.pyplot as plt\n",
    "import time\n",
    "\n",
    "from ChemClean import *\n",
    "from Descriptors import *"
   ]
  },
  {
   "cell_type": "code",
   "execution_count": 2,
   "id": "dde7a6d5",
   "metadata": {},
   "outputs": [],
   "source": [
    "import rdkit.Chem as Chem\n",
    "from rdkit.Chem import rdMolDescriptors "
   ]
  },
  {
   "cell_type": "code",
   "execution_count": 3,
   "id": "c775f643",
   "metadata": {},
   "outputs": [],
   "source": [
    "from sklearn.linear_model import LinearRegression, Lasso, Ridge\n",
    "from sklearn.metrics import r2_score\n",
    "from sklearn.pipeline import make_pipeline\n",
    "from sklearn.preprocessing import StandardScaler\n",
    "from sklearn.model_selection import train_test_split\n",
    "from sklearn.model_selection import cross_validate, GridSearchCV\n",
    "from sklearn.model_selection import RepeatedKFold\n",
    "from sklearn.pipeline import Pipeline\n",
    "from sklearn.ensemble import GradientBoostingRegressor\n",
    "\n",
    "import statsmodels.api as sm"
   ]
  },
  {
   "cell_type": "markdown",
   "id": "71924975",
   "metadata": {},
   "source": [
    "## Load data from url"
   ]
  },
  {
   "cell_type": "code",
   "execution_count": 4,
   "id": "07e0aa53",
   "metadata": {},
   "outputs": [],
   "source": [
    "url='https://raw.githubusercontent.com/akashjn/DataScience/main/Data/BTZ_5442mols_smiles_redpot.csv'\n",
    "data=pd.read_csv(url)"
   ]
  },
  {
   "cell_type": "code",
   "execution_count": 5,
   "id": "1e9cf7ec",
   "metadata": {},
   "outputs": [
    {
     "data": {
      "image/png": "[encoded data removed]",
      "text/plain": [
       "<Figure size 500x500 with 1 Axes>"
      ]
     },
     "metadata": {},
     "output_type": "display_data"
    }
   ],
   "source": [
    "ax=sns.displot(data, x=\"ERed\")\n",
    "plt.text(1.6,350,'Mean = '+str(np.round(np.mean(data['ERed']),3)))\n",
    "plt.text(1.6,330,'Sigma = '+str(np.round(np.std(data['ERed']),3)))\n",
    "plt.show()"
   ]
  },
  {
   "cell_type": "markdown",
   "id": "7f90b9b7",
   "metadata": {},
   "source": [
    "## Generate descriptors using Descriptors.py"
   ]
  },
  {
   "cell_type": "code",
   "execution_count": 6,
   "id": "0ecc8e92",
   "metadata": {},
   "outputs": [
    {
     "name": "stdout",
     "output_type": "stream",
     "text": [
      "(100, 208)\n",
      "CPU times: user 557 ms, sys: 19.6 ms, total: 577 ms\n",
      "Wall time: 572 ms\n"
     ]
    },
    {
     "data": {
      "text/html": [
       "<div>\n",
       "<style scoped>\n",
       "    .dataframe tbody tr th:only-of-type {\n",
       "        vertical-align: middle;\n",
       "    }\n",
       "\n",
       "    .dataframe tbody tr th {\n",
       "        vertical-align: top;\n",
       "    }\n",
       "\n",
       "    .dataframe thead th {\n",
       "        text-align: right;\n",
       "    }\n",
       "</style>\n",
       "<table border=\"1\" class=\"dataframe\">\n",
       "  <thead>\n",
       "    <tr style=\"text-align: right;\">\n",
       "      <th></th>\n",
       "      <th>MaxEStateIndex</th>\n",
       "      <th>MinEStateIndex</th>\n",
       "      <th>MaxAbsEStateIndex</th>\n",
       "      <th>MinAbsEStateIndex</th>\n",
       "      <th>qed</th>\n",
       "      <th>MolWt</th>\n",
       "      <th>HeavyAtomMolWt</th>\n",
       "      <th>ExactMolWt</th>\n",
       "      <th>NumValenceElectrons</th>\n",
       "      <th>NumRadicalElectrons</th>\n",
       "      <th>...</th>\n",
       "      <th>fr_sulfide</th>\n",
       "      <th>fr_sulfonamd</th>\n",
       "      <th>fr_sulfone</th>\n",
       "      <th>fr_term_acetylene</th>\n",
       "      <th>fr_tetrazole</th>\n",
       "      <th>fr_thiazole</th>\n",
       "      <th>fr_thiocyan</th>\n",
       "      <th>fr_thiophene</th>\n",
       "      <th>fr_unbrch_alkane</th>\n",
       "      <th>fr_urea</th>\n",
       "    </tr>\n",
       "  </thead>\n",
       "  <tbody>\n",
       "    <tr>\n",
       "      <th>0</th>\n",
       "      <td>4.456023</td>\n",
       "      <td>1.020889</td>\n",
       "      <td>4.456023</td>\n",
       "      <td>1.020889</td>\n",
       "      <td>0.861773</td>\n",
       "      <td>291.424</td>\n",
       "      <td>270.256</td>\n",
       "      <td>291.151767</td>\n",
       "      <td>108</td>\n",
       "      <td>0</td>\n",
       "      <td>...</td>\n",
       "      <td>0</td>\n",
       "      <td>0</td>\n",
       "      <td>0</td>\n",
       "      <td>0</td>\n",
       "      <td>0</td>\n",
       "      <td>0</td>\n",
       "      <td>0</td>\n",
       "      <td>0</td>\n",
       "      <td>0</td>\n",
       "      <td>0</td>\n",
       "    </tr>\n",
       "    <tr>\n",
       "      <th>1</th>\n",
       "      <td>5.243940</td>\n",
       "      <td>0.748371</td>\n",
       "      <td>5.243940</td>\n",
       "      <td>0.748371</td>\n",
       "      <td>0.864637</td>\n",
       "      <td>292.408</td>\n",
       "      <td>272.248</td>\n",
       "      <td>292.135782</td>\n",
       "      <td>108</td>\n",
       "      <td>0</td>\n",
       "      <td>...</td>\n",
       "      <td>0</td>\n",
       "      <td>0</td>\n",
       "      <td>0</td>\n",
       "      <td>0</td>\n",
       "      <td>0</td>\n",
       "      <td>0</td>\n",
       "      <td>0</td>\n",
       "      <td>0</td>\n",
       "      <td>0</td>\n",
       "      <td>0</td>\n",
       "    </tr>\n",
       "    <tr>\n",
       "      <th>2</th>\n",
       "      <td>4.487068</td>\n",
       "      <td>0.475834</td>\n",
       "      <td>4.487068</td>\n",
       "      <td>0.475834</td>\n",
       "      <td>0.941806</td>\n",
       "      <td>291.424</td>\n",
       "      <td>270.256</td>\n",
       "      <td>291.151767</td>\n",
       "      <td>108</td>\n",
       "      <td>0</td>\n",
       "      <td>...</td>\n",
       "      <td>0</td>\n",
       "      <td>0</td>\n",
       "      <td>0</td>\n",
       "      <td>0</td>\n",
       "      <td>0</td>\n",
       "      <td>0</td>\n",
       "      <td>0</td>\n",
       "      <td>0</td>\n",
       "      <td>0</td>\n",
       "      <td>0</td>\n",
       "    </tr>\n",
       "    <tr>\n",
       "      <th>3</th>\n",
       "      <td>4.513689</td>\n",
       "      <td>0.897986</td>\n",
       "      <td>4.513689</td>\n",
       "      <td>0.897986</td>\n",
       "      <td>0.918901</td>\n",
       "      <td>305.451</td>\n",
       "      <td>282.267</td>\n",
       "      <td>305.167417</td>\n",
       "      <td>114</td>\n",
       "      <td>0</td>\n",
       "      <td>...</td>\n",
       "      <td>0</td>\n",
       "      <td>0</td>\n",
       "      <td>0</td>\n",
       "      <td>0</td>\n",
       "      <td>0</td>\n",
       "      <td>0</td>\n",
       "      <td>0</td>\n",
       "      <td>0</td>\n",
       "      <td>0</td>\n",
       "      <td>0</td>\n",
       "    </tr>\n",
       "    <tr>\n",
       "      <th>4</th>\n",
       "      <td>4.512897</td>\n",
       "      <td>0.476118</td>\n",
       "      <td>4.512897</td>\n",
       "      <td>0.476118</td>\n",
       "      <td>0.939652</td>\n",
       "      <td>305.451</td>\n",
       "      <td>282.267</td>\n",
       "      <td>305.167417</td>\n",
       "      <td>114</td>\n",
       "      <td>0</td>\n",
       "      <td>...</td>\n",
       "      <td>0</td>\n",
       "      <td>0</td>\n",
       "      <td>0</td>\n",
       "      <td>0</td>\n",
       "      <td>0</td>\n",
       "      <td>0</td>\n",
       "      <td>0</td>\n",
       "      <td>0</td>\n",
       "      <td>0</td>\n",
       "      <td>0</td>\n",
       "    </tr>\n",
       "  </tbody>\n",
       "</table>\n",
       "<p>5 rows × 208 columns</p>\n",
       "</div>"
      ],
      "text/plain": [
       "   MaxEStateIndex  MinEStateIndex  MaxAbsEStateIndex  MinAbsEStateIndex  \\\n",
       "0        4.456023        1.020889           4.456023           1.020889   \n",
       "1        5.243940        0.748371           5.243940           0.748371   \n",
       "2        4.487068        0.475834           4.487068           0.475834   \n",
       "3        4.513689        0.897986           4.513689           0.897986   \n",
       "4        4.512897        0.476118           4.512897           0.476118   \n",
       "\n",
       "        qed    MolWt  HeavyAtomMolWt  ExactMolWt  NumValenceElectrons  \\\n",
       "0  0.861773  291.424         270.256  291.151767                  108   \n",
       "1  0.864637  292.408         272.248  292.135782                  108   \n",
       "2  0.941806  291.424         270.256  291.151767                  108   \n",
       "3  0.918901  305.451         282.267  305.167417                  114   \n",
       "4  0.939652  305.451         282.267  305.167417                  114   \n",
       "\n",
       "   NumRadicalElectrons  ...  fr_sulfide  fr_sulfonamd  fr_sulfone  \\\n",
       "0                    0  ...           0             0           0   \n",
       "1                    0  ...           0             0           0   \n",
       "2                    0  ...           0             0           0   \n",
       "3                    0  ...           0             0           0   \n",
       "4                    0  ...           0             0           0   \n",
       "\n",
       "   fr_term_acetylene  fr_tetrazole  fr_thiazole  fr_thiocyan  fr_thiophene  \\\n",
       "0                  0             0            0            0             0   \n",
       "1                  0             0            0            0             0   \n",
       "2                  0             0            0            0             0   \n",
       "3                  0             0            0            0             0   \n",
       "4                  0             0            0            0             0   \n",
       "\n",
       "   fr_unbrch_alkane  fr_urea  \n",
       "0                 0        0  \n",
       "1                 0        0  \n",
       "2                 0        0  \n",
       "3                 0        0  \n",
       "4                 0        0  \n",
       "\n",
       "[5 rows x 208 columns]"
      ]
     },
     "execution_count": 6,
     "metadata": {},
     "output_type": "execute_result"
    }
   ],
   "source": [
    "%%time\n",
    "p=desc(data['SMILES'][:100])\n",
    "df_rdkit=p.RDkit_descriptors()\n",
    "print(df_rdkit.shape)\n",
    "df_rdkit.head()"
   ]
  },
  {
   "cell_type": "markdown",
   "id": "b42a1043",
   "metadata": {},
   "source": [
    "## Data cleaning operations from ChemClean.py"
   ]
  },
  {
   "cell_type": "code",
   "execution_count": 7,
   "id": "6241e83e",
   "metadata": {},
   "outputs": [],
   "source": [
    "p=clean(df_rdkit)"
   ]
  },
  {
   "cell_type": "code",
   "execution_count": 8,
   "id": "ccdc6948",
   "metadata": {},
   "outputs": [
    {
     "name": "stdout",
     "output_type": "stream",
     "text": [
      "Removing 0 columns with nan, if any\n",
      "Before: df.shape=(100, 208)\n",
      "After: df.shape=(100, 208) \n",
      "\n",
      "removing 100 columns values with a unique value\n",
      "Before: df.shape=(100, 208)\n",
      "After: df.shape=(100, 108) \n",
      "\n",
      "Removed 24 columns with std < 0.2 \n",
      "Dropped 78 features with correlation coeff. > 0.50\n",
      "(100, 6)\n"
     ]
    },
    {
     "data": {
      "text/html": [
       "<div>\n",
       "<style scoped>\n",
       "    .dataframe tbody tr th:only-of-type {\n",
       "        vertical-align: middle;\n",
       "    }\n",
       "\n",
       "    .dataframe tbody tr th {\n",
       "        vertical-align: top;\n",
       "    }\n",
       "\n",
       "    .dataframe thead th {\n",
       "        text-align: right;\n",
       "    }\n",
       "</style>\n",
       "<table border=\"1\" class=\"dataframe\">\n",
       "  <thead>\n",
       "    <tr style=\"text-align: right;\">\n",
       "      <th></th>\n",
       "      <th>MaxEStateIndex</th>\n",
       "      <th>MolWt</th>\n",
       "      <th>PEOE_VSA10</th>\n",
       "      <th>SMR_VSA3</th>\n",
       "      <th>SMR_VSA4</th>\n",
       "      <th>EState_VSA7</th>\n",
       "    </tr>\n",
       "  </thead>\n",
       "  <tbody>\n",
       "    <tr>\n",
       "      <th>0</th>\n",
       "      <td>4.456023</td>\n",
       "      <td>291.424</td>\n",
       "      <td>11.033401</td>\n",
       "      <td>13.64699</td>\n",
       "      <td>0.0</td>\n",
       "      <td>0.0</td>\n",
       "    </tr>\n",
       "    <tr>\n",
       "      <th>1</th>\n",
       "      <td>5.243940</td>\n",
       "      <td>292.408</td>\n",
       "      <td>11.033401</td>\n",
       "      <td>8.74708</td>\n",
       "      <td>0.0</td>\n",
       "      <td>0.0</td>\n",
       "    </tr>\n",
       "    <tr>\n",
       "      <th>2</th>\n",
       "      <td>4.487068</td>\n",
       "      <td>291.424</td>\n",
       "      <td>11.033401</td>\n",
       "      <td>8.74708</td>\n",
       "      <td>0.0</td>\n",
       "      <td>0.0</td>\n",
       "    </tr>\n",
       "    <tr>\n",
       "      <th>3</th>\n",
       "      <td>4.513689</td>\n",
       "      <td>305.451</td>\n",
       "      <td>11.033401</td>\n",
       "      <td>8.74708</td>\n",
       "      <td>0.0</td>\n",
       "      <td>0.0</td>\n",
       "    </tr>\n",
       "    <tr>\n",
       "      <th>4</th>\n",
       "      <td>4.512897</td>\n",
       "      <td>305.451</td>\n",
       "      <td>11.033401</td>\n",
       "      <td>8.74708</td>\n",
       "      <td>0.0</td>\n",
       "      <td>0.0</td>\n",
       "    </tr>\n",
       "  </tbody>\n",
       "</table>\n",
       "</div>"
      ],
      "text/plain": [
       "   MaxEStateIndex    MolWt  PEOE_VSA10  SMR_VSA3  SMR_VSA4  EState_VSA7\n",
       "0        4.456023  291.424   11.033401  13.64699       0.0          0.0\n",
       "1        5.243940  292.408   11.033401   8.74708       0.0          0.0\n",
       "2        4.487068  291.424   11.033401   8.74708       0.0          0.0\n",
       "3        4.513689  305.451   11.033401   8.74708       0.0          0.0\n",
       "4        4.512897  305.451   11.033401   8.74708       0.0          0.0"
      ]
     },
     "execution_count": 8,
     "metadata": {},
     "output_type": "execute_result"
    }
   ],
   "source": [
    "p.remove_nan().head()\n",
    "p.remove_unique().head()\n",
    "p.remove_columns_low_std(0.2).head()\n",
    "df_model=p.remove_corr_features()\n",
    "print(df_model.shape)\n",
    "df_model.head()"
   ]
  },
  {
   "cell_type": "code",
   "execution_count": 11,
   "id": "53a26902",
   "metadata": {},
   "outputs": [
    {
     "data": {
      "text/plain": [
       "(100, 6)"
      ]
     },
     "execution_count": 11,
     "metadata": {},
     "output_type": "execute_result"
    }
   ],
   "source": [
    "p=0.05\n",
    "target=data['ERed'][:100]\n",
    "features=df_model.copy()\n",
    "features.shape"
   ]
  },
  {
   "cell_type": "code",
   "execution_count": 12,
   "id": "5f94de4f",
   "metadata": {},
   "outputs": [
    {
     "name": "stdout",
     "output_type": "stream",
     "text": [
      "2 descriptors eliminated in iteration 1\n",
      "Final model has (100, 4) desriptors\n"
     ]
    },
    {
     "data": {
      "text/plain": [
       "Index(['MaxEStateIndex', 'MolWt', 'PEOE_VSA10', 'SMR_VSA3'], dtype='object')"
      ]
     },
     "execution_count": 12,
     "metadata": {},
     "output_type": "execute_result"
    }
   ],
   "source": [
    "for a in range(100):\n",
    "    mod = sm.OLS(target,features)\n",
    "    fii = mod.fit()\n",
    "    p_values = fii.summary2().tables[1]['P>|t|']\n",
    "    cols=[]\n",
    "    for i in range(len(p_values)):\n",
    "        if p_values[i]>p:\n",
    "            cols.append(p_values.index[i])\n",
    "    if len(cols)==0:\n",
    "        break\n",
    "    print(len(cols),'descriptors eliminated in iteration',str(a+1))\n",
    "    features.drop(columns=cols,inplace=True)\n",
    "    \n",
    "print('Final model has',features.shape,'desriptors')\n",
    "features.columns"
   ]
  },
  {
   "cell_type": "code",
   "execution_count": 92,
   "id": "ed1c93c4",
   "metadata": {},
   "outputs": [
    {
     "data": {
      "text/plain": [
       "Index(['MaxEStateIndex', 'MinEStateIndex', 'PEOE_VSA1', 'PEOE_VSA10',\n",
       "       'PEOE_VSA11', 'PEOE_VSA8', 'PEOE_VSA9', 'SMR_VSA3', 'SlogP_VSA3',\n",
       "       'SlogP_VSA6', 'EState_VSA3', 'EState_VSA7', 'NumAliphaticHeterocycles'],\n",
       "      dtype='object')"
      ]
     },
     "execution_count": 92,
     "metadata": {},
     "output_type": "execute_result"
    }
   ],
   "source": []
  },
  {
   "cell_type": "code",
   "execution_count": null,
   "id": "6dc56fa6",
   "metadata": {},
   "outputs": [],
   "source": []
  }
 ],
 "metadata": {
  "kernelspec": {
   "display_name": "ds",
   "language": "python",
   "name": "ds"
  },
  "language_info": {
   "codemirror_mode": {
    "name": "ipython",
    "version": 3
   },
   "file_extension": ".py",
   "mimetype": "text/x-python",
   "name": "python",
   "nbconvert_exporter": "python",
   "pygments_lexer": "ipython3",
   "version": "3.10.6"
  }
 },
 "nbformat": 4,
 "nbformat_minor": 5
}
