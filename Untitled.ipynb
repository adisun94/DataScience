{
 "cells": [
  {
   "cell_type": "code",
   "execution_count": 2,
   "id": "70f067b1",
   "metadata": {},
   "outputs": [
    {
     "name": "stdout",
     "output_type": "stream",
     "text": [
      "Requirement already satisfied: datamol in /home/adisun/ds/lib/python3.10/site-packages (0.8.4)\n",
      "Requirement already satisfied: pandas in /home/adisun/ds/lib/python3.10/site-packages (from datamol) (1.5.1)\n",
      "Requirement already satisfied: tqdm in /home/adisun/ds/lib/python3.10/site-packages (from datamol) (4.64.1)\n",
      "Requirement already satisfied: scikit-learn in /home/adisun/ds/lib/python3.10/site-packages (from datamol) (1.1.3)\n",
      "Requirement already satisfied: appdirs in /home/adisun/ds/lib/python3.10/site-packages (from datamol) (1.4.4)\n",
      "Requirement already satisfied: scipy in /home/adisun/ds/lib/python3.10/site-packages (from datamol) (1.9.3)\n",
      "Requirement already satisfied: selfies in /home/adisun/ds/lib/python3.10/site-packages (from datamol) (2.1.1)\n",
      "Requirement already satisfied: joblib in /home/adisun/ds/lib/python3.10/site-packages (from datamol) (1.2.0)\n",
      "Requirement already satisfied: loguru in /home/adisun/ds/lib/python3.10/site-packages (from datamol) (0.6.0)\n",
      "Requirement already satisfied: matplotlib in /home/adisun/ds/lib/python3.10/site-packages (from datamol) (3.6.0)\n",
      "Requirement already satisfied: packaging in /home/adisun/ds/lib/python3.10/site-packages (from datamol) (21.3)\n",
      "Requirement already satisfied: pillow in /home/adisun/ds/lib/python3.10/site-packages (from datamol) (9.2.0)\n",
      "Requirement already satisfied: numpy in /home/adisun/ds/lib/python3.10/site-packages (from datamol) (1.23.4)\n",
      "Requirement already satisfied: fsspec>=2021.9 in /home/adisun/ds/lib/python3.10/site-packages (from datamol) (2022.11.0)\n",
      "Requirement already satisfied: python-dateutil>=2.7 in /home/adisun/ds/lib/python3.10/site-packages (from matplotlib->datamol) (2.8.2)\n",
      "Requirement already satisfied: fonttools>=4.22.0 in /home/adisun/ds/lib/python3.10/site-packages (from matplotlib->datamol) (4.38.0)\n",
      "Requirement already satisfied: kiwisolver>=1.0.1 in /home/adisun/ds/lib/python3.10/site-packages (from matplotlib->datamol) (1.4.4)\n",
      "Requirement already satisfied: pyparsing>=2.2.1 in /home/adisun/ds/lib/python3.10/site-packages (from matplotlib->datamol) (3.0.9)\n",
      "Requirement already satisfied: cycler>=0.10 in /home/adisun/ds/lib/python3.10/site-packages (from matplotlib->datamol) (0.11.0)\n",
      "Requirement already satisfied: contourpy>=1.0.1 in /home/adisun/ds/lib/python3.10/site-packages (from matplotlib->datamol) (1.0.5)\n",
      "Requirement already satisfied: pytz>=2020.1 in /home/adisun/ds/lib/python3.10/site-packages (from pandas->datamol) (2022.5)\n",
      "Requirement already satisfied: threadpoolctl>=2.0.0 in /home/adisun/ds/lib/python3.10/site-packages (from scikit-learn->datamol) (3.1.0)\n",
      "Requirement already satisfied: six>=1.5 in /home/adisun/ds/lib/python3.10/site-packages (from python-dateutil>=2.7->matplotlib->datamol) (1.16.0)\n"
     ]
    }
   ],
   "source": [
    "import rdkit.Chem as Chem\n",
    "!pip3 install datamol"
   ]
  },
  {
   "cell_type": "code",
   "execution_count": 6,
   "id": "ad02f56a",
   "metadata": {},
   "outputs": [
    {
     "ename": "ImportError",
     "evalue": "libXrender.so.1: cannot open shared object file: No such file or directory",
     "output_type": "error",
     "traceback": [
      "\u001b[0;31m---------------------------------------------------------------------------\u001b[0m",
      "\u001b[0;31mImportError\u001b[0m                               Traceback (most recent call last)",
      "Cell \u001b[0;32mIn [6], line 1\u001b[0m\n\u001b[0;32m----> 1\u001b[0m \u001b[38;5;28;01mimport\u001b[39;00m \u001b[38;5;21;01mdatamol\u001b[39;00m\n",
      "File \u001b[0;32m~/ds/lib/python3.10/site-packages/datamol/__init__.py:21\u001b[0m\n\u001b[1;32m     18\u001b[0m \u001b[38;5;28;01mfrom\u001b[39;00m \u001b[38;5;21;01m.\u001b[39;00m\u001b[38;5;21;01mutils\u001b[39;00m \u001b[38;5;28;01mimport\u001b[39;00m JobRunner\n\u001b[1;32m     19\u001b[0m \u001b[38;5;28;01mfrom\u001b[39;00m \u001b[38;5;21;01m.\u001b[39;00m\u001b[38;5;21;01mutils\u001b[39;00m \u001b[38;5;28;01mimport\u001b[39;00m fs\n\u001b[0;32m---> 21\u001b[0m \u001b[38;5;28;01mfrom\u001b[39;00m \u001b[38;5;21;01m.\u001b[39;00m \u001b[38;5;28;01mimport\u001b[39;00m data\n\u001b[1;32m     22\u001b[0m \u001b[38;5;28;01mfrom\u001b[39;00m \u001b[38;5;21;01m.\u001b[39;00m\u001b[38;5;21;01mdata\u001b[39;00m \u001b[38;5;28;01mimport\u001b[39;00m freesolv\n\u001b[1;32m     23\u001b[0m \u001b[38;5;28;01mfrom\u001b[39;00m \u001b[38;5;21;01m.\u001b[39;00m\u001b[38;5;21;01mdata\u001b[39;00m \u001b[38;5;28;01mimport\u001b[39;00m cdk2\n",
      "File \u001b[0;32m~/ds/lib/python3.10/site-packages/datamol/data.py:14\u001b[0m\n\u001b[1;32m     10\u001b[0m \u001b[38;5;28;01mimport\u001b[39;00m \u001b[38;5;21;01mpkg_resources\u001b[39;00m\n\u001b[1;32m     12\u001b[0m \u001b[38;5;28;01mimport\u001b[39;00m \u001b[38;5;21;01mpandas\u001b[39;00m \u001b[38;5;28;01mas\u001b[39;00m \u001b[38;5;21;01mpd\u001b[39;00m\n\u001b[0;32m---> 14\u001b[0m \u001b[38;5;28;01mfrom\u001b[39;00m \u001b[38;5;21;01m.\u001b[39;00m\u001b[38;5;21;01mio\u001b[39;00m \u001b[38;5;28;01mimport\u001b[39;00m read_sdf\n\u001b[1;32m     15\u001b[0m \u001b[38;5;28;01mfrom\u001b[39;00m \u001b[38;5;21;01m.\u001b[39;00m\u001b[38;5;21;01mconvert\u001b[39;00m \u001b[38;5;28;01mimport\u001b[39;00m from_df\n\u001b[1;32m     16\u001b[0m \u001b[38;5;28;01mfrom\u001b[39;00m \u001b[38;5;21;01m.\u001b[39;00m\u001b[38;5;21;01mconvert\u001b[39;00m \u001b[38;5;28;01mimport\u001b[39;00m render_mol_df\n",
      "File \u001b[0;32m~/ds/lib/python3.10/site-packages/datamol/io.py:15\u001b[0m\n\u001b[1;32m     12\u001b[0m \u001b[38;5;28;01mimport\u001b[39;00m \u001b[38;5;21;01mpathlib\u001b[39;00m\n\u001b[1;32m     13\u001b[0m \u001b[38;5;28;01mimport\u001b[39;00m \u001b[38;5;21;01mgzip\u001b[39;00m\n\u001b[0;32m---> 15\u001b[0m \u001b[38;5;28;01mfrom\u001b[39;00m \u001b[38;5;21;01mrdkit\u001b[39;00m\u001b[38;5;21;01m.\u001b[39;00m\u001b[38;5;21;01mChem\u001b[39;00m \u001b[38;5;28;01mimport\u001b[39;00m PandasTools\n\u001b[1;32m     16\u001b[0m \u001b[38;5;28;01mfrom\u001b[39;00m \u001b[38;5;21;01mrdkit\u001b[39;00m\u001b[38;5;21;01m.\u001b[39;00m\u001b[38;5;21;01mChem\u001b[39;00m \u001b[38;5;28;01mimport\u001b[39;00m rdmolfiles\n\u001b[1;32m     18\u001b[0m \u001b[38;5;28;01mimport\u001b[39;00m \u001b[38;5;21;01mpandas\u001b[39;00m \u001b[38;5;28;01mas\u001b[39;00m \u001b[38;5;21;01mpd\u001b[39;00m\n",
      "File \u001b[0;32m~/ds/lib/python3.10/site-packages/rdkit/Chem/PandasTools.py:135\u001b[0m\n\u001b[1;32m    133\u001b[0m \u001b[38;5;28;01mfrom\u001b[39;00m \u001b[38;5;21;01mrdkit\u001b[39;00m \u001b[38;5;28;01mimport\u001b[39;00m DataStructs\n\u001b[1;32m    134\u001b[0m \u001b[38;5;28;01mfrom\u001b[39;00m \u001b[38;5;21;01mrdkit\u001b[39;00m\u001b[38;5;21;01m.\u001b[39;00m\u001b[38;5;21;01mChem\u001b[39;00m \u001b[38;5;28;01mimport\u001b[39;00m AllChem\n\u001b[0;32m--> 135\u001b[0m \u001b[38;5;28;01mfrom\u001b[39;00m \u001b[38;5;21;01mrdkit\u001b[39;00m\u001b[38;5;21;01m.\u001b[39;00m\u001b[38;5;21;01mChem\u001b[39;00m \u001b[38;5;28;01mimport\u001b[39;00m Draw\n\u001b[1;32m    136\u001b[0m \u001b[38;5;28;01mfrom\u001b[39;00m \u001b[38;5;21;01mrdkit\u001b[39;00m\u001b[38;5;21;01m.\u001b[39;00m\u001b[38;5;21;01mChem\u001b[39;00m \u001b[38;5;28;01mimport\u001b[39;00m SDWriter\n\u001b[1;32m    137\u001b[0m \u001b[38;5;28;01mfrom\u001b[39;00m \u001b[38;5;21;01mrdkit\u001b[39;00m\u001b[38;5;21;01m.\u001b[39;00m\u001b[38;5;21;01mChem\u001b[39;00m \u001b[38;5;28;01mimport\u001b[39;00m rdchem\n",
      "File \u001b[0;32m~/ds/lib/python3.10/site-packages/rdkit/Chem/Draw/__init__.py:21\u001b[0m\n\u001b[1;32m     19\u001b[0m \u001b[38;5;28;01mfrom\u001b[39;00m \u001b[38;5;21;01mrdkit\u001b[39;00m \u001b[38;5;28;01mimport\u001b[39;00m rdBase\n\u001b[1;32m     20\u001b[0m \u001b[38;5;28;01mfrom\u001b[39;00m \u001b[38;5;21;01mrdkit\u001b[39;00m\u001b[38;5;21;01m.\u001b[39;00m\u001b[38;5;21;01mChem\u001b[39;00m \u001b[38;5;28;01mimport\u001b[39;00m rdDepictor\n\u001b[0;32m---> 21\u001b[0m \u001b[38;5;28;01mfrom\u001b[39;00m \u001b[38;5;21;01mrdkit\u001b[39;00m\u001b[38;5;21;01m.\u001b[39;00m\u001b[38;5;21;01mChem\u001b[39;00m\u001b[38;5;21;01m.\u001b[39;00m\u001b[38;5;21;01mDraw\u001b[39;00m \u001b[38;5;28;01mimport\u001b[39;00m rdMolDraw2D\n\u001b[1;32m     22\u001b[0m \u001b[38;5;28;01mfrom\u001b[39;00m \u001b[38;5;21;01mrdkit\u001b[39;00m\u001b[38;5;21;01m.\u001b[39;00m\u001b[38;5;21;01mChem\u001b[39;00m\u001b[38;5;21;01m.\u001b[39;00m\u001b[38;5;21;01mDraw\u001b[39;00m\u001b[38;5;21;01m.\u001b[39;00m\u001b[38;5;21;01mMolDrawing\u001b[39;00m \u001b[38;5;28;01mimport\u001b[39;00m DrawingOptions\n\u001b[1;32m     23\u001b[0m \u001b[38;5;28;01mfrom\u001b[39;00m \u001b[38;5;21;01mrdkit\u001b[39;00m\u001b[38;5;21;01m.\u001b[39;00m\u001b[38;5;21;01mChem\u001b[39;00m\u001b[38;5;21;01m.\u001b[39;00m\u001b[38;5;21;01mDraw\u001b[39;00m\u001b[38;5;21;01m.\u001b[39;00m\u001b[38;5;21;01mMolDrawing\u001b[39;00m \u001b[38;5;28;01mimport\u001b[39;00m MolDrawing\n",
      "\u001b[0;31mImportError\u001b[0m: libXrender.so.1: cannot open shared object file: No such file or directory"
     ]
    }
   ],
   "source": [
    "import datamol"
   ]
  },
  {
   "cell_type": "code",
   "execution_count": 5,
   "id": "3c3a4629",
   "metadata": {},
   "outputs": [
    {
     "ename": "ImportError",
     "evalue": "libXrender.so.1: cannot open shared object file: No such file or directory",
     "output_type": "error",
     "traceback": [
      "\u001b[0;31m---------------------------------------------------------------------------\u001b[0m",
      "\u001b[0;31mImportError\u001b[0m                               Traceback (most recent call last)",
      "Cell \u001b[0;32mIn [5], line 1\u001b[0m\n\u001b[0;32m----> 1\u001b[0m \u001b[38;5;28;01mfrom\u001b[39;00m \u001b[38;5;21;01mrdkit\u001b[39;00m\u001b[38;5;21;01m.\u001b[39;00m\u001b[38;5;21;01mChem\u001b[39;00m\u001b[38;5;21;01m.\u001b[39;00m\u001b[38;5;21;01mDraw\u001b[39;00m \u001b[38;5;28;01mimport\u001b[39;00m rdMolDraw2D\n",
      "File \u001b[0;32m~/ds/lib/python3.10/site-packages/rdkit/Chem/Draw/__init__.py:21\u001b[0m\n\u001b[1;32m     19\u001b[0m \u001b[38;5;28;01mfrom\u001b[39;00m \u001b[38;5;21;01mrdkit\u001b[39;00m \u001b[38;5;28;01mimport\u001b[39;00m rdBase\n\u001b[1;32m     20\u001b[0m \u001b[38;5;28;01mfrom\u001b[39;00m \u001b[38;5;21;01mrdkit\u001b[39;00m\u001b[38;5;21;01m.\u001b[39;00m\u001b[38;5;21;01mChem\u001b[39;00m \u001b[38;5;28;01mimport\u001b[39;00m rdDepictor\n\u001b[0;32m---> 21\u001b[0m \u001b[38;5;28;01mfrom\u001b[39;00m \u001b[38;5;21;01mrdkit\u001b[39;00m\u001b[38;5;21;01m.\u001b[39;00m\u001b[38;5;21;01mChem\u001b[39;00m\u001b[38;5;21;01m.\u001b[39;00m\u001b[38;5;21;01mDraw\u001b[39;00m \u001b[38;5;28;01mimport\u001b[39;00m rdMolDraw2D\n\u001b[1;32m     22\u001b[0m \u001b[38;5;28;01mfrom\u001b[39;00m \u001b[38;5;21;01mrdkit\u001b[39;00m\u001b[38;5;21;01m.\u001b[39;00m\u001b[38;5;21;01mChem\u001b[39;00m\u001b[38;5;21;01m.\u001b[39;00m\u001b[38;5;21;01mDraw\u001b[39;00m\u001b[38;5;21;01m.\u001b[39;00m\u001b[38;5;21;01mMolDrawing\u001b[39;00m \u001b[38;5;28;01mimport\u001b[39;00m DrawingOptions\n\u001b[1;32m     23\u001b[0m \u001b[38;5;28;01mfrom\u001b[39;00m \u001b[38;5;21;01mrdkit\u001b[39;00m\u001b[38;5;21;01m.\u001b[39;00m\u001b[38;5;21;01mChem\u001b[39;00m\u001b[38;5;21;01m.\u001b[39;00m\u001b[38;5;21;01mDraw\u001b[39;00m\u001b[38;5;21;01m.\u001b[39;00m\u001b[38;5;21;01mMolDrawing\u001b[39;00m \u001b[38;5;28;01mimport\u001b[39;00m MolDrawing\n",
      "\u001b[0;31mImportError\u001b[0m: libXrender.so.1: cannot open shared object file: No such file or directory"
     ]
    }
   ],
   "source": [
    "from rdkit.Chem.Draw import rdMolDraw2D"
   ]
  },
  {
   "cell_type": "code",
   "execution_count": null,
   "id": "18aa6f8d",
   "metadata": {},
   "outputs": [],
   "source": []
  }
 ],
 "metadata": {
  "kernelspec": {
   "display_name": "ds",
   "language": "python",
   "name": "ds"
  },
  "language_info": {
   "codemirror_mode": {
    "name": "ipython",
    "version": 3
   },
   "file_extension": ".py",
   "mimetype": "text/x-python",
   "name": "python",
   "nbconvert_exporter": "python",
   "pygments_lexer": "ipython3",
   "version": "3.10.6"
  }
 },
 "nbformat": 4,
 "nbformat_minor": 5
}
