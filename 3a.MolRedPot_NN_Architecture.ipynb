{
 "cells": [
  {
   "cell_type": "markdown",
   "id": "3f682a93",
   "metadata": {},
   "source": [
    "## In this notebook, we will\n",
    "1. Vary the NN architecture to reduce the number of learning parameters."
   ]
  },
  {
   "cell_type": "code",
   "execution_count": 19,
   "id": "03dfdf5c",
   "metadata": {},
   "outputs": [],
   "source": [
    "import pandas as pd\n",
    "import matplotlib.pyplot as plt\n",
    "import numpy as np\n",
    "np.random.seed(1)\n",
    "import tensorflow as tf\n",
    "tf.random.set_seed(2)\n",
    "import statsmodels.api as sm\n",
    "import time\n",
    "import os"
   ]
  },
  {
   "cell_type": "code",
   "execution_count": 10,
   "id": "fddd8b8f",
   "metadata": {},
   "outputs": [],
   "source": [
    "#Keras/TensorFlow\n",
    "from tensorflow.keras.layers import Conv2D, MaxPooling2D, Flatten,Dense, Softmax\n",
    "from tensorflow.keras.models import Sequential, load_model\n",
    "from tensorflow.keras.optimizers import RMSprop\n",
    "from tensorflow.keras.callbacks import ModelCheckpoint\n",
    "from tensorflow.keras.callbacks import ReduceLROnPlateau\n",
    "from keras.optimizers import Adam\n",
    "\n",
    "#Keras image processing\n",
    "from keras.preprocessing.image import ImageDataGenerator\n",
    "from keras.preprocessing import image"
   ]
  },
  {
   "cell_type": "code",
   "execution_count": 11,
   "id": "a51b89d5",
   "metadata": {},
   "outputs": [],
   "source": [
    "#Sklearn tools\n",
    "from sklearn.metrics import mean_absolute_error, mean_squared_error, r2_score\n",
    "from sklearn.preprocessing import MinMaxScaler\n",
    "from sklearn.model_selection import train_test_split\n",
    "from sklearn.preprocessing import StandardScaler\n",
    "\n",
    "#Keras specials\n",
    "from keras.models import Sequential\n",
    "from keras.layers import Dense, Dropout\n",
    "from keras.optimizers import Adam\n",
    "from keras.callbacks import ReduceLROnPlateau"
   ]
  },
  {
   "cell_type": "markdown",
   "id": "e01c9b37",
   "metadata": {},
   "source": [
    "## Load csv files into DataFrames\n",
    "Data was previously split into training and testing sets in <font color='blue'>1.MolRedPot_FeatureEngineering.ipynb</font>"
   ]
  },
  {
   "cell_type": "code",
   "execution_count": 4,
   "id": "8d3d2895",
   "metadata": {},
   "outputs": [],
   "source": [
    "features=pd.read_csv('Data/features_train_scaled.csv')\n",
    "target=pd.read_csv('Data/target_train.csv',index_col=0)['ERed']"
   ]
  },
  {
   "cell_type": "code",
   "execution_count": 5,
   "id": "e7680b73",
   "metadata": {},
   "outputs": [],
   "source": [
    "features=tf.convert_to_tensor(features,dtype=tf.float64)\n",
    "target=tf.convert_to_tensor(target,dtype=tf.float64)"
   ]
  },
  {
   "cell_type": "code",
   "execution_count": 6,
   "id": "0c9e962b",
   "metadata": {},
   "outputs": [
    {
     "name": "stdout",
     "output_type": "stream",
     "text": [
      "Feature matrix shape:  (4353, 32)\n",
      "Target property shape:  (4353,)\n"
     ]
    }
   ],
   "source": [
    "print('Feature matrix shape: ',features.shape)\n",
    "print('Target property shape: ',target.shape)"
   ]
  },
  {
   "cell_type": "code",
   "execution_count": 7,
   "id": "70920c84",
   "metadata": {},
   "outputs": [
    {
     "name": "stdout",
     "output_type": "stream",
     "text": [
      "Model: \"sequential\"\n",
      "_________________________________________________________________\n",
      " Layer (type)                Output Shape              Param #   \n",
      "=================================================================\n",
      " dense (Dense)               (None, 64)                2112      \n",
      "                                                                 \n",
      " dense_1 (Dense)             (None, 32)                2080      \n",
      "                                                                 \n",
      " dense_2 (Dense)             (None, 16)                528       \n",
      "                                                                 \n",
      " dense_3 (Dense)             (None, 1)                 17        \n",
      "                                                                 \n",
      "=================================================================\n",
      "Total params: 4,737\n",
      "Trainable params: 4,737\n",
      "Non-trainable params: 0\n",
      "_________________________________________________________________\n"
     ]
    }
   ],
   "source": [
    "num_dens_layers=4\n",
    "n_nodes=[64,32,16, 1]\n",
    "learning_rate=1e-3\n",
    "\n",
    "model = Sequential()\n",
    "model.add(Dense(n_nodes[0], kernel_initializer='normal',input_dim = features.shape[1], activation='relu')) # first hidden layer\n",
    "# model.add(Dropout(0.5))\n",
    "for i in range(1,num_dens_layers): # loop through the rest of hidden layers\n",
    "    model.add(Dense(n_nodes[i], kernel_initializer='normal',activation='relu'))    \n",
    "\n",
    "model.compile(loss='mean_absolute_error', optimizer=Adam(learning_rate=learning_rate), metrics=['mean_absolute_error'])\n",
    "model.summary()"
   ]
  },
  {
   "cell_type": "markdown",
   "id": "1c03b872",
   "metadata": {},
   "source": [
    "## For this NN architecture, the number of trainable parameters is 4737, which is comaprable to 4353 datapoints in the training set."
   ]
  },
  {
   "cell_type": "code",
   "execution_count": 12,
   "id": "3cccc3a8",
   "metadata": {},
   "outputs": [
    {
     "name": "stdout",
     "output_type": "stream",
     "text": [
      "Epoch 1/50\n",
      "58/58 [==============================] - 2s 8ms/step - loss: 0.8804 - mean_absolute_error: 0.8804 - val_loss: 0.2103 - val_mean_absolute_error: 0.2103 - lr: 0.0010\n",
      "Epoch 2/50\n",
      "58/58 [==============================] - 0s 4ms/step - loss: 0.1537 - mean_absolute_error: 0.1537 - val_loss: 0.1179 - val_mean_absolute_error: 0.1179 - lr: 0.0010\n",
      "Epoch 3/50\n",
      "58/58 [==============================] - 0s 4ms/step - loss: 0.1073 - mean_absolute_error: 0.1073 - val_loss: 0.0939 - val_mean_absolute_error: 0.0939 - lr: 0.0010\n",
      "Epoch 4/50\n",
      "58/58 [==============================] - 0s 4ms/step - loss: 0.0881 - mean_absolute_error: 0.0881 - val_loss: 0.0832 - val_mean_absolute_error: 0.0832 - lr: 0.0010\n",
      "Epoch 5/50\n",
      "58/58 [==============================] - 0s 3ms/step - loss: 0.0787 - mean_absolute_error: 0.0787 - val_loss: 0.0754 - val_mean_absolute_error: 0.0754 - lr: 0.0010\n",
      "Epoch 6/50\n",
      "58/58 [==============================] - 0s 4ms/step - loss: 0.0729 - mean_absolute_error: 0.0729 - val_loss: 0.0717 - val_mean_absolute_error: 0.0717 - lr: 0.0010\n",
      "Epoch 7/50\n",
      "58/58 [==============================] - 0s 4ms/step - loss: 0.0705 - mean_absolute_error: 0.0705 - val_loss: 0.0688 - val_mean_absolute_error: 0.0688 - lr: 0.0010\n",
      "Epoch 8/50\n",
      "58/58 [==============================] - 0s 4ms/step - loss: 0.0657 - mean_absolute_error: 0.0657 - val_loss: 0.0653 - val_mean_absolute_error: 0.0653 - lr: 0.0010\n",
      "Epoch 9/50\n",
      "58/58 [==============================] - 0s 4ms/step - loss: 0.0647 - mean_absolute_error: 0.0647 - val_loss: 0.0648 - val_mean_absolute_error: 0.0648 - lr: 0.0010\n",
      "Epoch 10/50\n",
      "58/58 [==============================] - 0s 4ms/step - loss: 0.0621 - mean_absolute_error: 0.0621 - val_loss: 0.0652 - val_mean_absolute_error: 0.0652 - lr: 0.0010\n",
      "Epoch 11/50\n",
      "58/58 [==============================] - 0s 4ms/step - loss: 0.0618 - mean_absolute_error: 0.0618 - val_loss: 0.0647 - val_mean_absolute_error: 0.0647 - lr: 0.0010\n",
      "Epoch 12/50\n",
      "58/58 [==============================] - 0s 4ms/step - loss: 0.0607 - mean_absolute_error: 0.0607 - val_loss: 0.0640 - val_mean_absolute_error: 0.0640 - lr: 0.0010\n",
      "Epoch 13/50\n",
      "58/58 [==============================] - 0s 3ms/step - loss: 0.0596 - mean_absolute_error: 0.0596 - val_loss: 0.0637 - val_mean_absolute_error: 0.0637 - lr: 0.0010\n",
      "Epoch 14/50\n",
      "58/58 [==============================] - 0s 3ms/step - loss: 0.0600 - mean_absolute_error: 0.0600 - val_loss: 0.0611 - val_mean_absolute_error: 0.0611 - lr: 0.0010\n",
      "Epoch 15/50\n",
      "58/58 [==============================] - 0s 3ms/step - loss: 0.0591 - mean_absolute_error: 0.0591 - val_loss: 0.0627 - val_mean_absolute_error: 0.0627 - lr: 0.0010\n",
      "Epoch 16/50\n",
      "58/58 [==============================] - 0s 3ms/step - loss: 0.0578 - mean_absolute_error: 0.0578 - val_loss: 0.0667 - val_mean_absolute_error: 0.0667 - lr: 0.0010\n",
      "Epoch 17/50\n",
      "58/58 [==============================] - 0s 5ms/step - loss: 0.0567 - mean_absolute_error: 0.0567 - val_loss: 0.0617 - val_mean_absolute_error: 0.0617 - lr: 0.0010\n",
      "Epoch 18/50\n",
      "58/58 [==============================] - 0s 5ms/step - loss: 0.0571 - mean_absolute_error: 0.0571 - val_loss: 0.0604 - val_mean_absolute_error: 0.0604 - lr: 0.0010\n",
      "Epoch 19/50\n",
      "58/58 [==============================] - 0s 4ms/step - loss: 0.0572 - mean_absolute_error: 0.0572 - val_loss: 0.0637 - val_mean_absolute_error: 0.0637 - lr: 0.0010\n",
      "Epoch 20/50\n",
      "58/58 [==============================] - 0s 4ms/step - loss: 0.0561 - mean_absolute_error: 0.0561 - val_loss: 0.0626 - val_mean_absolute_error: 0.0626 - lr: 0.0010\n",
      "Epoch 21/50\n",
      "58/58 [==============================] - 0s 3ms/step - loss: 0.0557 - mean_absolute_error: 0.0557 - val_loss: 0.0608 - val_mean_absolute_error: 0.0608 - lr: 0.0010\n",
      "Epoch 22/50\n",
      "58/58 [==============================] - 0s 2ms/step - loss: 0.0556 - mean_absolute_error: 0.0556 - val_loss: 0.0628 - val_mean_absolute_error: 0.0628 - lr: 0.0010\n",
      "Epoch 23/50\n",
      "58/58 [==============================] - ETA: 0s - loss: 0.0542 - mean_absolute_error: 0.0542\n",
      "Epoch 23: ReduceLROnPlateau reducing learning rate to 0.0009000000427477062.\n",
      "58/58 [==============================] - 0s 3ms/step - loss: 0.0542 - mean_absolute_error: 0.0542 - val_loss: 0.0606 - val_mean_absolute_error: 0.0606 - lr: 0.0010\n",
      "Epoch 24/50\n",
      "58/58 [==============================] - 0s 4ms/step - loss: 0.0539 - mean_absolute_error: 0.0539 - val_loss: 0.0604 - val_mean_absolute_error: 0.0604 - lr: 9.0000e-04\n",
      "Epoch 25/50\n",
      "58/58 [==============================] - 0s 5ms/step - loss: 0.0536 - mean_absolute_error: 0.0536 - val_loss: 0.0598 - val_mean_absolute_error: 0.0598 - lr: 9.0000e-04\n",
      "Epoch 26/50\n",
      "58/58 [==============================] - 0s 5ms/step - loss: 0.0540 - mean_absolute_error: 0.0540 - val_loss: 0.0588 - val_mean_absolute_error: 0.0588 - lr: 9.0000e-04\n",
      "Epoch 27/50\n",
      "58/58 [==============================] - 0s 3ms/step - loss: 0.0541 - mean_absolute_error: 0.0541 - val_loss: 0.0605 - val_mean_absolute_error: 0.0605 - lr: 9.0000e-04\n",
      "Epoch 28/50\n",
      "58/58 [==============================] - 0s 4ms/step - loss: 0.0537 - mean_absolute_error: 0.0537 - val_loss: 0.0594 - val_mean_absolute_error: 0.0594 - lr: 9.0000e-04\n",
      "Epoch 29/50\n",
      "58/58 [==============================] - 0s 4ms/step - loss: 0.0522 - mean_absolute_error: 0.0522 - val_loss: 0.0599 - val_mean_absolute_error: 0.0599 - lr: 9.0000e-04\n",
      "Epoch 30/50\n",
      "58/58 [==============================] - 0s 4ms/step - loss: 0.0560 - mean_absolute_error: 0.0560 - val_loss: 0.0580 - val_mean_absolute_error: 0.0580 - lr: 9.0000e-04\n",
      "Epoch 31/50\n",
      "58/58 [==============================] - 0s 5ms/step - loss: 0.0526 - mean_absolute_error: 0.0526 - val_loss: 0.0595 - val_mean_absolute_error: 0.0595 - lr: 9.0000e-04\n",
      "Epoch 32/50\n",
      "58/58 [==============================] - 0s 5ms/step - loss: 0.0521 - mean_absolute_error: 0.0521 - val_loss: 0.0590 - val_mean_absolute_error: 0.0590 - lr: 9.0000e-04\n",
      "Epoch 33/50\n",
      "58/58 [==============================] - 0s 4ms/step - loss: 0.0523 - mean_absolute_error: 0.0523 - val_loss: 0.0584 - val_mean_absolute_error: 0.0584 - lr: 9.0000e-04\n",
      "Epoch 34/50\n",
      "58/58 [==============================] - 0s 4ms/step - loss: 0.0521 - mean_absolute_error: 0.0521 - val_loss: 0.0596 - val_mean_absolute_error: 0.0596 - lr: 9.0000e-04\n",
      "Epoch 35/50\n",
      "55/58 [===========================>..] - ETA: 0s - loss: 0.0540 - mean_absolute_error: 0.0540\n",
      "Epoch 35: ReduceLROnPlateau reducing learning rate to 0.0008100000384729356.\n",
      "58/58 [==============================] - 0s 4ms/step - loss: 0.0543 - mean_absolute_error: 0.0543 - val_loss: 0.0633 - val_mean_absolute_error: 0.0633 - lr: 9.0000e-04\n",
      "Epoch 36/50\n",
      "58/58 [==============================] - 0s 4ms/step - loss: 0.0515 - mean_absolute_error: 0.0515 - val_loss: 0.0575 - val_mean_absolute_error: 0.0575 - lr: 8.1000e-04\n",
      "Epoch 37/50\n",
      "58/58 [==============================] - 0s 7ms/step - loss: 0.0527 - mean_absolute_error: 0.0527 - val_loss: 0.0590 - val_mean_absolute_error: 0.0590 - lr: 8.1000e-04\n",
      "Epoch 38/50\n",
      "58/58 [==============================] - 0s 7ms/step - loss: 0.0515 - mean_absolute_error: 0.0515 - val_loss: 0.0598 - val_mean_absolute_error: 0.0598 - lr: 8.1000e-04\n",
      "Epoch 39/50\n",
      "58/58 [==============================] - 0s 5ms/step - loss: 0.0510 - mean_absolute_error: 0.0510 - val_loss: 0.0582 - val_mean_absolute_error: 0.0582 - lr: 8.1000e-04\n",
      "Epoch 40/50\n",
      "58/58 [==============================] - 0s 3ms/step - loss: 0.0509 - mean_absolute_error: 0.0509 - val_loss: 0.0584 - val_mean_absolute_error: 0.0584 - lr: 8.1000e-04\n",
      "Epoch 41/50\n",
      "41/58 [====================>.........] - ETA: 0s - loss: 0.0513 - mean_absolute_error: 0.0513\n",
      "Epoch 41: ReduceLROnPlateau reducing learning rate to 0.0007290000503417104.\n",
      "58/58 [==============================] - 0s 4ms/step - loss: 0.0516 - mean_absolute_error: 0.0516 - val_loss: 0.0587 - val_mean_absolute_error: 0.0587 - lr: 8.1000e-04\n",
      "Epoch 42/50\n",
      "58/58 [==============================] - 0s 3ms/step - loss: 0.0515 - mean_absolute_error: 0.0515 - val_loss: 0.0584 - val_mean_absolute_error: 0.0584 - lr: 7.2900e-04\n",
      "Epoch 43/50\n",
      "58/58 [==============================] - 0s 5ms/step - loss: 0.0499 - mean_absolute_error: 0.0499 - val_loss: 0.0578 - val_mean_absolute_error: 0.0578 - lr: 7.2900e-04\n",
      "Epoch 44/50\n",
      "58/58 [==============================] - 0s 5ms/step - loss: 0.0505 - mean_absolute_error: 0.0505 - val_loss: 0.0580 - val_mean_absolute_error: 0.0580 - lr: 7.2900e-04\n",
      "Epoch 45/50\n",
      "58/58 [==============================] - 0s 5ms/step - loss: 0.0506 - mean_absolute_error: 0.0506 - val_loss: 0.0592 - val_mean_absolute_error: 0.0592 - lr: 7.2900e-04\n",
      "Epoch 46/50\n",
      "53/58 [==========================>...] - ETA: 0s - loss: 0.0514 - mean_absolute_error: 0.0514\n",
      "Epoch 46: ReduceLROnPlateau reducing learning rate to 0.0006561000715009868.\n",
      "58/58 [==============================] - 0s 4ms/step - loss: 0.0513 - mean_absolute_error: 0.0513 - val_loss: 0.0584 - val_mean_absolute_error: 0.0584 - lr: 7.2900e-04\n",
      "Epoch 47/50\n",
      "58/58 [==============================] - 0s 4ms/step - loss: 0.0499 - mean_absolute_error: 0.0499 - val_loss: 0.0571 - val_mean_absolute_error: 0.0571 - lr: 6.5610e-04\n",
      "Epoch 48/50\n",
      "58/58 [==============================] - 0s 4ms/step - loss: 0.0495 - mean_absolute_error: 0.0495 - val_loss: 0.0571 - val_mean_absolute_error: 0.0571 - lr: 6.5610e-04\n",
      "Epoch 49/50\n",
      "58/58 [==============================] - 0s 6ms/step - loss: 0.0493 - mean_absolute_error: 0.0493 - val_loss: 0.0577 - val_mean_absolute_error: 0.0577 - lr: 6.5610e-04\n",
      "Epoch 50/50\n",
      "58/58 [==============================] - 0s 4ms/step - loss: 0.0496 - mean_absolute_error: 0.0496 - val_loss: 0.0583 - val_mean_absolute_error: 0.0583 - lr: 6.5610e-04\n",
      "CPU times: total: 6.42 s\n",
      "Wall time: 14 s\n"
     ]
    },
    {
     "data": {
      "image/png": "[encoded data removed]",
      "text/plain": [
       "<Figure size 640x480 with 1 Axes>"
      ]
     },
     "metadata": {},
     "output_type": "display_data"
    }
   ],
   "source": [
    "%%time\n",
    "\n",
    "with tf.device('/cpu:0'):\n",
    "\n",
    "    redlr=ReduceLROnPlateau(monitor='val_mean_absolute_error', factor=0.9, patience=5, min_lr=0, verbose=1)\n",
    "\n",
    "    history=model.fit(features, target, epochs=50, batch_size=64, validation_split = 0.15, callbacks=redlr, verbose=True)\n",
    "\n",
    "    train_err=history.history['mean_absolute_error']\n",
    "\n",
    "    val_err=history.history['val_mean_absolute_error']\n",
    "\n",
    "    plt.figure()\n",
    "    plt.plot(train_err, label='Training')\n",
    "    plt.plot(val_err, label='Validation')\n",
    "    plt.xlabel('Epoch')\n",
    "    plt.ylabel('Loss')\n",
    "    plt.legend()"
   ]
  },
  {
   "cell_type": "code",
   "execution_count": 13,
   "id": "a4c27904",
   "metadata": {},
   "outputs": [
    {
     "name": "stdout",
     "output_type": "stream",
     "text": [
      "137/137 [==============================] - 0s 2ms/step\n"
     ]
    },
    {
     "data": {
      "image/png": "[encoded data removed]",
      "text/plain": [
       "<Figure size 600x600 with 1 Axes>"
      ]
     },
     "metadata": {},
     "output_type": "display_data"
    }
   ],
   "source": [
    "target_nn=model.predict(features)\n",
    "train_mae=mean_absolute_error(target,target_nn)\n",
    "train_rmse=np.sqrt(mean_squared_error(target,target_nn))\n",
    "train_r2=r2_score(target,target_nn)\n",
    "\n",
    "plt.figure(figsize=(6,6))\n",
    "plt.scatter(target,target_nn,c='b')\n",
    "plt.plot([0.8,2],[0.8,2],ls='--',c='k')\n",
    "plt.xlim([0.8,2])\n",
    "plt.ylim([0.8,2])\n",
    "plt.xticks(fontsize=14)\n",
    "plt.yticks(fontsize=14)\n",
    "plt.xlabel('True',fontsize=14)\n",
    "plt.ylabel('NN prediction',fontsize=14)\n",
    "plt.text(1,1.9,'MAE = '+str(np.round(train_mae,3)))\n",
    "plt.text(1,1.8,'R$^2$ = '+str(np.round(train_r2,3)))\n",
    "plt.show()"
   ]
  },
  {
   "cell_type": "markdown",
   "id": "20c45ef8",
   "metadata": {},
   "source": [
    "## Other NN architectures were found to not impact model performance."
   ]
  },
  {
   "cell_type": "markdown",
   "id": "c96c9473",
   "metadata": {},
   "source": [
    "## Save NN model"
   ]
  },
  {
   "cell_type": "code",
   "execution_count": 14,
   "id": "1672fd64",
   "metadata": {},
   "outputs": [
    {
     "name": "stdout",
     "output_type": "stream",
     "text": [
      "INFO:tensorflow:Assets written to: Models/NN_model/assets\n"
     ]
    }
   ],
   "source": [
    "!mkdir -p NN_model\n",
    "model.save('Models/NN_model/')"
   ]
  },
  {
   "cell_type": "code",
   "execution_count": 22,
   "id": "d8aa8c22",
   "metadata": {},
   "outputs": [
    {
     "data": {
      "text/plain": [
       "['assets', 'keras_metadata.pb', 'saved_model.pb', 'variables']"
      ]
     },
     "execution_count": 22,
     "metadata": {},
     "output_type": "execute_result"
    }
   ],
   "source": [
    "os.listdir('Models/NN_model/')"
   ]
  },
  {
   "cell_type": "code",
   "execution_count": 23,
   "id": "652f159c",
   "metadata": {},
   "outputs": [
    {
     "name": "stdout",
     "output_type": "stream",
     "text": [
      "Model: \"sequential\"\n",
      "_________________________________________________________________\n",
      " Layer (type)                Output Shape              Param #   \n",
      "=================================================================\n",
      " dense (Dense)               (None, 64)                2112      \n",
      "                                                                 \n",
      " dense_1 (Dense)             (None, 32)                2080      \n",
      "                                                                 \n",
      " dense_2 (Dense)             (None, 16)                528       \n",
      "                                                                 \n",
      " dense_3 (Dense)             (None, 1)                 17        \n",
      "                                                                 \n",
      "=================================================================\n",
      "Total params: 4,737\n",
      "Trainable params: 4,737\n",
      "Non-trainable params: 0\n",
      "_________________________________________________________________\n"
     ]
    }
   ],
   "source": [
    "NN_model = tf.keras.models.load_model('Models/NN_model/')\n",
    "\n",
    "# Check its architecture\n",
    "NN_model.summary()"
   ]
  },
  {
   "cell_type": "markdown",
   "id": "50827edf",
   "metadata": {},
   "source": [
    "## Save NN model and weights as HDF5"
   ]
  },
  {
   "cell_type": "code",
   "execution_count": 24,
   "id": "6d1026c4",
   "metadata": {},
   "outputs": [
    {
     "name": "stdout",
     "output_type": "stream",
     "text": [
      "Saved model to disk\n"
     ]
    }
   ],
   "source": [
    "model_json = model.to_json()\n",
    "with open(\"model.json\", \"w\") as json_file:\n",
    "    json_file.write(model_json)\n",
    "# serialize weights to HDF5\n",
    "model.save_weights(\"model.h5\")\n",
    "print(\"Saved model to disk\")"
   ]
  },
  {
   "cell_type": "markdown",
   "id": "cae0e7a5",
   "metadata": {},
   "source": [
    "In the next notebook, <font color = blue>3b.MolRedPot_NN_LearningRateTuning.ipynb\n",
    "</font>, we will tune the learning rate in the NN model."
   ]
  },
  {
   "cell_type": "code",
   "execution_count": null,
   "id": "c6d8630d",
   "metadata": {},
   "outputs": [],
   "source": []
  }
 ],
 "metadata": {
  "kernelspec": {
   "display_name": ".venv",
   "language": "python",
   "name": "python3"
  },
  "language_info": {
   "codemirror_mode": {
    "name": "ipython",
    "version": 3
   },
   "file_extension": ".py",
   "mimetype": "text/x-python",
   "name": "python",
   "nbconvert_exporter": "python",
   "pygments_lexer": "ipython3",
   "version": "3.10.9"
  },
  "vscode": {
   "interpreter": {
    "hash": "f4a95e8bd45faf9f7afbea92f2bb21d91c6ee2bb3f2fd655cb9ab5af1037e5b0"
   }
  }
 },
 "nbformat": 4,
 "nbformat_minor": 5
}
