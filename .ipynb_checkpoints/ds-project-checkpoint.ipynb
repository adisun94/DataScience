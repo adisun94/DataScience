{
 "cells": [
  {
   "cell_type": "markdown",
   "id": "f8ebf233",
   "metadata": {},
   "source": [
    "## Author: Aditya Sundar\n",
    "## Email: aditya.1094@gmail.com\n",
    "\n",
    "## <font color='blue'>Electric vehicles (EVs) are predicted to be an integral part of modern, sustainable economies.  Replacing combustion engines with batteries reduces our carbon footprint and improves air quality. However, the current costs associated with researching & manufacturing batteries makes EVs more expensive. As such, it is crucial for the buyer to be informed about the pros and cons of purchasing EVs. The project is intended to help vehicle buyers make informed selections of EVs, by providing </font> <font color='red'> 1) interactive dashboards to explore the performance metrics of commercial EVs </font><font color='blue'>and<font> <font color='red'>2) models to estimate vehicle costs.</font>\n",
    "    \n",
    "### Note: There is a heading before each cell or group of cells. Headings in black font denote code for data retrieval and cleaning. Headings in <font color='red'>red</font> font denote visualization codes that can be run directly using processed data"
   ]
  },
  {
   "cell_type": "code",
   "execution_count": 1,
   "id": "364b7883",
   "metadata": {},
   "outputs": [],
   "source": [
    "import pandas as pd\n",
    "import warnings\n",
    "warnings.filterwarnings(\"ignore\")\n",
    "import time\n",
    "import numpy as np\n",
    "import requests\n",
    "from bs4 import BeautifulSoup\n",
    "import plotly.express as px\n",
    "import plotly.graph_objects as go\n",
    "from plotly.subplots import make_subplots\n",
    "import ipywidgets as widgets\n",
    "import unicodedata\n",
    "import re\n",
    "import seaborn as sns\n",
    "import inspect\n",
    "import matplotlib.pyplot as plt\n",
    "import os\n",
    "    \n",
    "from raceplotly.plots import barplot\n",
    "    \n",
    "from DataCleaning import *\n",
    "from BarPlot import *\n",
    "from DataCleaning import *"
   ]
  },
  {
   "cell_type": "markdown",
   "id": "5c09a756",
   "metadata": {},
   "source": [
    "# Web scraping to get data for electric vehicles (EV) sales in the USA\n",
    " Data includes various types of electric vehicles, manufactured by several automobile companies, showing purchasing trends from 2000 to 2022."
   ]
  },
  {
   "cell_type": "code",
   "execution_count": 3,
   "id": "10b27c30",
   "metadata": {},
   "outputs": [
    {
     "name": "stdout",
     "output_type": "stream",
     "text": [
      "['CA', 'CO', 'CT', 'FL', 'MT', 'MI', 'MN', 'NJ', 'NY', 'OR', 'TN', 'TX', 'VT', 'VA', 'WA', 'WI']\n"
     ]
    }
   ],
   "source": [
    "url = 'https://www.atlasevhub.com/materials/state-ev-registration-data/#data'\n",
    "reqs = requests.get(url)\n",
    "soup = BeautifulSoup(reqs.text, 'html.parser')\n",
    "    \n",
    "links=[link.get('href') for link in soup.find_all('a') ]\n",
    "data=[i for i in links if len(i.split('/'))>1 and i.split('/')[1]=='public']\n",
    "data=[i for i in data if i.split('.')[-1]=='csv']\n",
    "state_name=[i.split('/')[3].split('_')[0].upper() for i in data]\n",
    "\n",
    "print(state_name)\n",
    "\n",
    "dt=[]\n",
    "for i in data:\n",
    "    dt.append(pd.read_csv('https://www.atlasevhub.com/'+i))"
   ]
  },
  {
   "cell_type": "code",
   "execution_count": null,
   "id": "254aec63",
   "metadata": {},
   "outputs": [],
   "source": [
    "for i in range(len(dt)):\n",
    "    dt[i]=dt[i].dropna(axis=1)\n",
    "    dt[i].rename({'Registration Valid Date':'Date'},axis=1, inplace=True)\n",
    "    if 'Vehicle Name' in dt[i].columns:\n",
    "        dt[i]['Make'] =dt[i]['Vehicle Name'].str.split().str[0]\n",
    "        dt[i].rename({'Vehicle Name':'Model'},axis=1, inplace=True)"
   ]
  },
  {
   "cell_type": "markdown",
   "id": "c01ea12d",
   "metadata": {},
   "source": [
    "## Save data as json file\""
   ]
  },
  {
   "cell_type": "code",
   "execution_count": null,
   "id": "da78c7d8",
   "metadata": {},
   "outputs": [],
   "source": [
    "for i in range(len(state_name)):\n",
    "    dt[i].to_json('data/USA/'+state_name[i]+'_EVdata.json',orient='records')"
   ]
  },
  {
   "cell_type": "markdown",
   "id": "eaeffaa5",
   "metadata": {},
   "source": [
    "## Visualize data for states (cumulative number of EV sales)"
   ]
  },
  {
   "cell_type": "code",
   "execution_count": 3,
   "id": "3ba17f41",
   "metadata": {},
   "outputs": [],
   "source": [
    "states=[]\n",
    "for i in os.listdir('../dataUSA/USA'):\n",
    "    states.append(i.split('_')[0])"
   ]
  },
  {
   "cell_type": "code",
   "execution_count": 14,
   "id": "91bf1620",
   "metadata": {},
   "outputs": [],
   "source": [
    "data_map=pd.DataFrame()\n",
    "for i in states:\n",
    "    df=pd.read_json('../dataUSA/USA/'+i+'_EVdata.json', orient='records')\n",
    "    if 'Date' in df.columns:\n",
    "        p=patch_year(i,df)\n",
    "        t=p.total_sales()\n",
    "        t['State']=p.state\n",
    "        data_map=pd.concat([data_map,t])"
   ]
  },
  {
   "cell_type": "code",
   "execution_count": 25,
   "id": "ff607833",
   "metadata": {},
   "outputs": [
    {
     "data": {
      "application/vnd.plotly.v1+json": {
       "config": {
        "plotlyServerURL": "https://plot.ly"
       },
       "data": [
        {
         "coloraxis": "coloraxis",
         "geo": "geo",
         "hovertemplate": "Date=2000<br>State=%{location}<br>Count=%{z}<extra></extra>",
         "locationmode": "USA-states",
         "locations": [
          "FL",
          "TN",
          "NJ",
          "CA",
          "NY",
          "CO",
          "MT",
          "VA",
          "TX",
          "CT",
          "MI",
          "WI",
          "WA"
         ],
         "name": "",
         "type": "choropleth",
         "z": [
          0,
          0,
          0,
          0,
          0,
          0,
          0,
          0,
          0,
          0,
          0,
          0,
          0
         ]
        }
       ],
       "frames": [
        {
         "data": [
          {
           "coloraxis": "coloraxis",
           "geo": "geo",
           "hovertemplate": "Date=2000<br>State=%{location}<br>Count=%{z}<extra></extra>",
           "locationmode": "USA-states",
           "locations": [
            "FL",
            "TN",
            "NJ",
            "CA",
            "NY",
            "CO",
            "MT",
            "VA",
            "TX",
            "CT",
            "MI",
            "WI",
            "WA"
           ],
           "name": "",
           "type": "choropleth",
           "z": [
            0,
            0,
            0,
            0,
            0,
            0,
            0,
            0,
            0,
            0,
            0,
            0,
            0
           ]
          }
         ],
         "name": "2000"
        },
        {
         "data": [
          {
           "coloraxis": "coloraxis",
           "geo": "geo",
           "hovertemplate": "Date=2001<br>State=%{location}<br>Count=%{z}<extra></extra>",
           "locationmode": "USA-states",
           "locations": [
            "FL",
            "TN",
            "NJ",
            "CA",
            "NY",
            "CO",
            "MT",
            "VA",
            "TX",
            "CT",
            "MI",
            "WI",
            "WA"
           ],
           "name": "",
           "type": "choropleth",
           "z": [
            0,
            0,
            0,
            0,
            0,
            0,
            0,
            0,
            0,
            0,
            0,
            0,
            0
           ]
          }
         ],
         "name": "2001"
        },
        {
         "data": [
          {
           "coloraxis": "coloraxis",
           "geo": "geo",
           "hovertemplate": "Date=2002<br>State=%{location}<br>Count=%{z}<extra></extra>",
           "locationmode": "USA-states",
           "locations": [
            "FL",
            "TN",
            "NJ",
            "CA",
            "NY",
            "CO",
            "MT",
            "VA",
            "TX",
            "CT",
            "MI",
            "WI",
            "WA"
           ],
           "name": "",
           "type": "choropleth",
           "z": [
            0,
            0,
            0,
            0,
            0,
            0,
            0,
            8,
            0,
            0,
            0,
            0,
            0
           ]
          }
         ],
         "name": "2002"
        },
        {
         "data": [
          {
           "coloraxis": "coloraxis",
           "geo": "geo",
           "hovertemplate": "Date=2003<br>State=%{location}<br>Count=%{z}<extra></extra>",
           "locationmode": "USA-states",
           "locations": [
            "FL",
            "TN",
            "NJ",
            "CA",
            "NY",
            "CO",
            "MT",
            "VA",
            "TX",
            "CT",
            "MI",
            "WI",
            "WA"
           ],
           "name": "",
           "type": "choropleth",
           "z": [
            0,
            0,
            0,
            0,
            0,
            0,
            1,
            13,
            0,
            0,
            0,
            0,
            0
           ]
          }
         ],
         "name": "2003"
        },
        {
         "data": [
          {
           "coloraxis": "coloraxis",
           "geo": "geo",
           "hovertemplate": "Date=2004<br>State=%{location}<br>Count=%{z}<extra></extra>",
           "locationmode": "USA-states",
           "locations": [
            "FL",
            "TN",
            "NJ",
            "CA",
            "NY",
            "CO",
            "MT",
            "VA",
            "TX",
            "CT",
            "MI",
            "WI",
            "WA"
           ],
           "name": "",
           "type": "choropleth",
           "z": [
            0,
            0,
            0,
            0,
            0,
            0,
            13,
            18,
            0,
            0,
            0,
            0,
            0
           ]
          }
         ],
         "name": "2004"
        },
        {
         "data": [
          {
           "coloraxis": "coloraxis",
           "geo": "geo",
           "hovertemplate": "Date=2005<br>State=%{location}<br>Count=%{z}<extra></extra>",
           "locationmode": "USA-states",
           "locations": [
            "FL",
            "TN",
            "NJ",
            "CA",
            "NY",
            "CO",
            "MT",
            "VA",
            "TX",
            "CT",
            "MI",
            "WI",
            "WA"
           ],
           "name": "",
           "type": "choropleth",
           "z": [
            0,
            0,
            0,
            0,
            0,
            0,
            17,
            23,
            0,
            0,
            0,
            0,
            0
           ]
          }
         ],
         "name": "2005"
        },
        {
         "data": [
          {
           "coloraxis": "coloraxis",
           "geo": "geo",
           "hovertemplate": "Date=2006<br>State=%{location}<br>Count=%{z}<extra></extra>",
           "locationmode": "USA-states",
           "locations": [
            "FL",
            "TN",
            "NJ",
            "CA",
            "NY",
            "CO",
            "MT",
            "VA",
            "TX",
            "CT",
            "MI",
            "WI",
            "WA"
           ],
           "name": "",
           "type": "choropleth",
           "z": [
            0,
            0,
            0,
            0,
            0,
            0,
            18,
            58,
            0,
            0,
            0,
            0,
            0
           ]
          }
         ],
         "name": "2006"
        },
        {
         "data": [
          {
           "coloraxis": "coloraxis",
           "geo": "geo",
           "hovertemplate": "Date=2007<br>State=%{location}<br>Count=%{z}<extra></extra>",
           "locationmode": "USA-states",
           "locations": [
            "FL",
            "TN",
            "NJ",
            "CA",
            "NY",
            "CO",
            "MT",
            "VA",
            "TX",
            "CT",
            "MI",
            "WI",
            "WA"
           ],
           "name": "",
           "type": "choropleth",
           "z": [
            0,
            0,
            0,
            0,
            0,
            0,
            19,
            73,
            0,
            0,
            0,
            0,
            0
           ]
          }
         ],
         "name": "2007"
        },
        {
         "data": [
          {
           "coloraxis": "coloraxis",
           "geo": "geo",
           "hovertemplate": "Date=2008<br>State=%{location}<br>Count=%{z}<extra></extra>",
           "locationmode": "USA-states",
           "locations": [
            "FL",
            "TN",
            "NJ",
            "CA",
            "NY",
            "CO",
            "MT",
            "VA",
            "TX",
            "CT",
            "MI",
            "WI",
            "WA"
           ],
           "name": "",
           "type": "choropleth",
           "z": [
            0,
            0,
            0,
            0,
            0,
            0,
            34,
            73,
            0,
            0,
            0,
            0,
            0
           ]
          }
         ],
         "name": "2008"
        },
        {
         "data": [
          {
           "coloraxis": "coloraxis",
           "geo": "geo",
           "hovertemplate": "Date=2009<br>State=%{location}<br>Count=%{z}<extra></extra>",
           "locationmode": "USA-states",
           "locations": [
            "FL",
            "TN",
            "NJ",
            "CA",
            "NY",
            "CO",
            "MT",
            "VA",
            "TX",
            "CT",
            "MI",
            "WI",
            "WA"
           ],
           "name": "",
           "type": "choropleth",
           "z": [
            0,
            0,
            0,
            0,
            0,
            0,
            48,
            102,
            0,
            0,
            0,
            0,
            0
           ]
          }
         ],
         "name": "2009"
        },
        {
         "data": [
          {
           "coloraxis": "coloraxis",
           "geo": "geo",
           "hovertemplate": "Date=2010<br>State=%{location}<br>Count=%{z}<extra></extra>",
           "locationmode": "USA-states",
           "locations": [
            "FL",
            "TN",
            "NJ",
            "CA",
            "NY",
            "CO",
            "MT",
            "VA",
            "TX",
            "CT",
            "MI",
            "WI",
            "WA"
           ],
           "name": "",
           "type": "choropleth",
           "z": [
            0,
            0,
            0,
            754,
            0,
            220,
            62,
            117,
            0,
            0,
            0,
            0,
            77
           ]
          }
         ],
         "name": "2010"
        },
        {
         "data": [
          {
           "coloraxis": "coloraxis",
           "geo": "geo",
           "hovertemplate": "Date=2011<br>State=%{location}<br>Count=%{z}<extra></extra>",
           "locationmode": "USA-states",
           "locations": [
            "FL",
            "TN",
            "NJ",
            "CA",
            "NY",
            "CO",
            "MT",
            "VA",
            "TX",
            "CT",
            "MI",
            "WI",
            "WA"
           ],
           "name": "",
           "type": "choropleth",
           "z": [
            0,
            0,
            0,
            6611,
            2231,
            528,
            72,
            158,
            0,
            1,
            0,
            0,
            2531
           ]
          }
         ],
         "name": "2011"
        },
        {
         "data": [
          {
           "coloraxis": "coloraxis",
           "geo": "geo",
           "hovertemplate": "Date=2012<br>State=%{location}<br>Count=%{z}<extra></extra>",
           "locationmode": "USA-states",
           "locations": [
            "FL",
            "TN",
            "NJ",
            "CA",
            "NY",
            "CO",
            "MT",
            "VA",
            "TX",
            "CT",
            "MI",
            "WI",
            "WA"
           ],
           "name": "",
           "type": "choropleth",
           "z": [
            0,
            0,
            0,
            24967,
            10208,
            1574,
            90,
            195,
            0,
            24,
            0,
            0,
            7450
           ]
          }
         ],
         "name": "2012"
        },
        {
         "data": [
          {
           "coloraxis": "coloraxis",
           "geo": "geo",
           "hovertemplate": "Date=2013<br>State=%{location}<br>Count=%{z}<extra></extra>",
           "locationmode": "USA-states",
           "locations": [
            "FL",
            "TN",
            "NJ",
            "CA",
            "NY",
            "CO",
            "MT",
            "VA",
            "TX",
            "CT",
            "MI",
            "WI",
            "WA"
           ],
           "name": "",
           "type": "choropleth",
           "z": [
            0,
            0,
            0,
            77394,
            20749,
            4103,
            118,
            251,
            0,
            113,
            3,
            0,
            20264
           ]
          }
         ],
         "name": "2013"
        },
        {
         "data": [
          {
           "coloraxis": "coloraxis",
           "geo": "geo",
           "hovertemplate": "Date=2014<br>State=%{location}<br>Count=%{z}<extra></extra>",
           "locationmode": "USA-states",
           "locations": [
            "FL",
            "TN",
            "NJ",
            "CA",
            "NY",
            "CO",
            "MT",
            "VA",
            "TX",
            "CT",
            "MI",
            "WI",
            "WA"
           ],
           "name": "",
           "type": "choropleth",
           "z": [
            0,
            0,
            0,
            186333,
            65595,
            8232,
            161,
            293,
            0,
            626,
            394,
            0,
            38033
           ]
          }
         ],
         "name": "2014"
        },
        {
         "data": [
          {
           "coloraxis": "coloraxis",
           "geo": "geo",
           "hovertemplate": "Date=2015<br>State=%{location}<br>Count=%{z}<extra></extra>",
           "locationmode": "USA-states",
           "locations": [
            "FL",
            "TN",
            "NJ",
            "CA",
            "NY",
            "CO",
            "MT",
            "VA",
            "TX",
            "CT",
            "MI",
            "WI",
            "WA"
           ],
           "name": "",
           "type": "choropleth",
           "z": [
            0,
            0,
            0,
            352501,
            109709,
            14294,
            213,
            588,
            0,
            2606,
            949,
            0,
            61239
           ]
          }
         ],
         "name": "2015"
        },
        {
         "data": [
          {
           "coloraxis": "coloraxis",
           "geo": "geo",
           "hovertemplate": "Date=2016<br>State=%{location}<br>Count=%{z}<extra></extra>",
           "locationmode": "USA-states",
           "locations": [
            "FL",
            "TN",
            "NJ",
            "CA",
            "NY",
            "CO",
            "MT",
            "VA",
            "TX",
            "CT",
            "MI",
            "WI",
            "WA"
           ],
           "name": "",
           "type": "choropleth",
           "z": [
            0,
            0,
            0,
            582672,
            210676,
            23264,
            272,
            3194,
            0,
            5220,
            1700,
            0,
            91935
           ]
          }
         ],
         "name": "2016"
        },
        {
         "data": [
          {
           "coloraxis": "coloraxis",
           "geo": "geo",
           "hovertemplate": "Date=2017<br>State=%{location}<br>Count=%{z}<extra></extra>",
           "locationmode": "USA-states",
           "locations": [
            "FL",
            "TN",
            "NJ",
            "CA",
            "NY",
            "CO",
            "MT",
            "VA",
            "TX",
            "CT",
            "MI",
            "WI",
            "WA"
           ],
           "name": "",
           "type": "choropleth",
           "z": [
            0,
            0,
            23969,
            905434,
            476223,
            36444,
            404,
            15605,
            0,
            5220,
            9692,
            0,
            131807
           ]
          }
         ],
         "name": "2017"
        },
        {
         "data": [
          {
           "coloraxis": "coloraxis",
           "geo": "geo",
           "hovertemplate": "Date=2018<br>State=%{location}<br>Count=%{z}<extra></extra>",
           "locationmode": "USA-states",
           "locations": [
            "FL",
            "TN",
            "NJ",
            "CA",
            "NY",
            "CO",
            "MT",
            "VA",
            "TX",
            "CT",
            "MI",
            "WI",
            "WA"
           ],
           "name": "",
           "type": "choropleth",
           "z": [
            67209,
            0,
            64388,
            1354001,
            989319,
            54467,
            1270,
            35124,
            0,
            11439,
            16741,
            6366,
            191083
           ]
          }
         ],
         "name": "2018"
        },
        {
         "data": [
          {
           "coloraxis": "coloraxis",
           "geo": "geo",
           "hovertemplate": "Date=2019<br>State=%{location}<br>Count=%{z}<extra></extra>",
           "locationmode": "USA-states",
           "locations": [
            "FL",
            "TN",
            "NJ",
            "CA",
            "NY",
            "CO",
            "MT",
            "VA",
            "TX",
            "CT",
            "MI",
            "WI",
            "WA"
           ],
           "name": "",
           "type": "choropleth",
           "z": [
            124189,
            32701,
            121294,
            1913970,
            1614076,
            250968,
            1641,
            64060,
            2393,
            11439,
            42209,
            10577,
            541933
           ]
          }
         ],
         "name": "2019"
        },
        {
         "data": [
          {
           "coloraxis": "coloraxis",
           "geo": "geo",
           "hovertemplate": "Date=2020<br>State=%{location}<br>Count=%{z}<extra></extra>",
           "locationmode": "USA-states",
           "locations": [
            "FL",
            "TN",
            "NJ",
            "CA",
            "NY",
            "CO",
            "MT",
            "VA",
            "TX",
            "CT",
            "MI",
            "WI",
            "WA"
           ],
           "name": "",
           "type": "choropleth",
           "z": [
            260753,
            70430,
            196900,
            2542443,
            2348980,
            638237,
            3090,
            94176,
            244379,
            11439,
            43628,
            15743,
            1225252
           ]
          }
         ],
         "name": "2020"
        },
        {
         "data": [
          {
           "coloraxis": "coloraxis",
           "geo": "geo",
           "hovertemplate": "Date=2021<br>State=%{location}<br>Count=%{z}<extra></extra>",
           "locationmode": "USA-states",
           "locations": [
            "FL",
            "TN",
            "NJ",
            "CA",
            "NY",
            "CO",
            "MT",
            "VA",
            "TX",
            "CT",
            "MI",
            "WI",
            "WA"
           ],
           "name": "",
           "type": "choropleth",
           "z": [
            353974,
            128451,
            309872,
            2542443,
            3037548,
            1113181,
            5552,
            126954,
            1275028,
            11439,
            43628,
            21531,
            2106411
           ]
          }
         ],
         "name": "2021"
        },
        {
         "data": [
          {
           "coloraxis": "coloraxis",
           "geo": "geo",
           "hovertemplate": "Date=2022<br>State=%{location}<br>Count=%{z}<extra></extra>",
           "locationmode": "USA-states",
           "locations": [
            "FL",
            "TN",
            "NJ",
            "CA",
            "NY",
            "CO",
            "MT",
            "VA",
            "TX",
            "CT",
            "MI",
            "WI",
            "WA"
           ],
           "name": "",
           "type": "choropleth",
           "z": [
            353974,
            167301,
            309872,
            2542443,
            3118179,
            1246097,
            5730,
            126989,
            1446588,
            11439,
            43628,
            29120,
            2648349
           ]
          }
         ],
         "name": "2022"
        }
       ],
       "layout": {
        "coloraxis": {
         "colorbar": {
          "title": {
           "text": "Count"
          }
         },
         "colorscale": [
          [
           0,
           "#fde725"
          ],
          [
           0.1111111111111111,
           "#b5de2b"
          ],
          [
           0.2222222222222222,
           "#6ece58"
          ],
          [
           0.3333333333333333,
           "#35b779"
          ],
          [
           0.4444444444444444,
           "#1f9e89"
          ],
          [
           0.5555555555555556,
           "#26828e"
          ],
          [
           0.6666666666666666,
           "#31688e"
          ],
          [
           0.7777777777777778,
           "#3e4989"
          ],
          [
           0.8888888888888888,
           "#482878"
          ],
          [
           1,
           "#440154"
          ]
         ]
        },
        "geo": {
         "center": {},
         "domain": {
          "x": [
           0,
           1
          ],
          "y": [
           0,
           1
          ]
         },
         "scope": "usa"
        },
        "height": 500,
        "legend": {
         "tracegroupgap": 0
        },
        "margin": {
         "b": 0,
         "l": 0,
         "r": 100,
         "t": 100
        },
        "sliders": [
         {
          "active": 0,
          "currentvalue": {
           "prefix": "Year="
          },
          "len": 0.9,
          "pad": {
           "b": 10,
           "t": 60
          },
          "steps": [
           {
            "args": [
             [
              "2000"
             ],
             {
              "frame": {
               "duration": 0,
               "redraw": true
              },
              "fromcurrent": true,
              "mode": "immediate",
              "transition": {
               "duration": 0,
               "easing": "linear"
              }
             }
            ],
            "label": "2000",
            "method": "animate"
           },
           {
            "args": [
             [
              "2001"
             ],
             {
              "frame": {
               "duration": 0,
               "redraw": true
              },
              "fromcurrent": true,
              "mode": "immediate",
              "transition": {
               "duration": 0,
               "easing": "linear"
              }
             }
            ],
            "label": "2001",
            "method": "animate"
           },
           {
            "args": [
             [
              "2002"
             ],
             {
              "frame": {
               "duration": 0,
               "redraw": true
              },
              "fromcurrent": true,
              "mode": "immediate",
              "transition": {
               "duration": 0,
               "easing": "linear"
              }
             }
            ],
            "label": "2002",
            "method": "animate"
           },
           {
            "args": [
             [
              "2003"
             ],
             {
              "frame": {
               "duration": 0,
               "redraw": true
              },
              "fromcurrent": true,
              "mode": "immediate",
              "transition": {
               "duration": 0,
               "easing": "linear"
              }
             }
            ],
            "label": "2003",
            "method": "animate"
           },
           {
            "args": [
             [
              "2004"
             ],
             {
              "frame": {
               "duration": 0,
               "redraw": true
              },
              "fromcurrent": true,
              "mode": "immediate",
              "transition": {
               "duration": 0,
               "easing": "linear"
              }
             }
            ],
            "label": "2004",
            "method": "animate"
           },
           {
            "args": [
             [
              "2005"
             ],
             {
              "frame": {
               "duration": 0,
               "redraw": true
              },
              "fromcurrent": true,
              "mode": "immediate",
              "transition": {
               "duration": 0,
               "easing": "linear"
              }
             }
            ],
            "label": "2005",
            "method": "animate"
           },
           {
            "args": [
             [
              "2006"
             ],
             {
              "frame": {
               "duration": 0,
               "redraw": true
              },
              "fromcurrent": true,
              "mode": "immediate",
              "transition": {
               "duration": 0,
               "easing": "linear"
              }
             }
            ],
            "label": "2006",
            "method": "animate"
           },
           {
            "args": [
             [
              "2007"
             ],
             {
              "frame": {
               "duration": 0,
               "redraw": true
              },
              "fromcurrent": true,
              "mode": "immediate",
              "transition": {
               "duration": 0,
               "easing": "linear"
              }
             }
            ],
            "label": "2007",
            "method": "animate"
           },
           {
            "args": [
             [
              "2008"
             ],
             {
              "frame": {
               "duration": 0,
               "redraw": true
              },
              "fromcurrent": true,
              "mode": "immediate",
              "transition": {
               "duration": 0,
               "easing": "linear"
              }
             }
            ],
            "label": "2008",
            "method": "animate"
           },
           {
            "args": [
             [
              "2009"
             ],
             {
              "frame": {
               "duration": 0,
               "redraw": true
              },
              "fromcurrent": true,
              "mode": "immediate",
              "transition": {
               "duration": 0,
               "easing": "linear"
              }
             }
            ],
            "label": "2009",
            "method": "animate"
           },
           {
            "args": [
             [
              "2010"
             ],
             {
              "frame": {
               "duration": 0,
               "redraw": true
              },
              "fromcurrent": true,
              "mode": "immediate",
              "transition": {
               "duration": 0,
               "easing": "linear"
              }
             }
            ],
            "label": "2010",
            "method": "animate"
           },
           {
            "args": [
             [
              "2011"
             ],
             {
              "frame": {
               "duration": 0,
               "redraw": true
              },
              "fromcurrent": true,
              "mode": "immediate",
              "transition": {
               "duration": 0,
               "easing": "linear"
              }
             }
            ],
            "label": "2011",
            "method": "animate"
           },
           {
            "args": [
             [
              "2012"
             ],
             {
              "frame": {
               "duration": 0,
               "redraw": true
              },
              "fromcurrent": true,
              "mode": "immediate",
              "transition": {
               "duration": 0,
               "easing": "linear"
              }
             }
            ],
            "label": "2012",
            "method": "animate"
           },
           {
            "args": [
             [
              "2013"
             ],
             {
              "frame": {
               "duration": 0,
               "redraw": true
              },
              "fromcurrent": true,
              "mode": "immediate",
              "transition": {
               "duration": 0,
               "easing": "linear"
              }
             }
            ],
            "label": "2013",
            "method": "animate"
           },
           {
            "args": [
             [
              "2014"
             ],
             {
              "frame": {
               "duration": 0,
               "redraw": true
              },
              "fromcurrent": true,
              "mode": "immediate",
              "transition": {
               "duration": 0,
               "easing": "linear"
              }
             }
            ],
            "label": "2014",
            "method": "animate"
           },
           {
            "args": [
             [
              "2015"
             ],
             {
              "frame": {
               "duration": 0,
               "redraw": true
              },
              "fromcurrent": true,
              "mode": "immediate",
              "transition": {
               "duration": 0,
               "easing": "linear"
              }
             }
            ],
            "label": "2015",
            "method": "animate"
           },
           {
            "args": [
             [
              "2016"
             ],
             {
              "frame": {
               "duration": 0,
               "redraw": true
              },
              "fromcurrent": true,
              "mode": "immediate",
              "transition": {
               "duration": 0,
               "easing": "linear"
              }
             }
            ],
            "label": "2016",
            "method": "animate"
           },
           {
            "args": [
             [
              "2017"
             ],
             {
              "frame": {
               "duration": 0,
               "redraw": true
              },
              "fromcurrent": true,
              "mode": "immediate",
              "transition": {
               "duration": 0,
               "easing": "linear"
              }
             }
            ],
            "label": "2017",
            "method": "animate"
           },
           {
            "args": [
             [
              "2018"
             ],
             {
              "frame": {
               "duration": 0,
               "redraw": true
              },
              "fromcurrent": true,
              "mode": "immediate",
              "transition": {
               "duration": 0,
               "easing": "linear"
              }
             }
            ],
            "label": "2018",
            "method": "animate"
           },
           {
            "args": [
             [
              "2019"
             ],
             {
              "frame": {
               "duration": 0,
               "redraw": true
              },
              "fromcurrent": true,
              "mode": "immediate",
              "transition": {
               "duration": 0,
               "easing": "linear"
              }
             }
            ],
            "label": "2019",
            "method": "animate"
           },
           {
            "args": [
             [
              "2020"
             ],
             {
              "frame": {
               "duration": 0,
               "redraw": true
              },
              "fromcurrent": true,
              "mode": "immediate",
              "transition": {
               "duration": 0,
               "easing": "linear"
              }
             }
            ],
            "label": "2020",
            "method": "animate"
           },
           {
            "args": [
             [
              "2021"
             ],
             {
              "frame": {
               "duration": 0,
               "redraw": true
              },
              "fromcurrent": true,
              "mode": "immediate",
              "transition": {
               "duration": 0,
               "easing": "linear"
              }
             }
            ],
            "label": "2021",
            "method": "animate"
           },
           {
            "args": [
             [
              "2022"
             ],
             {
              "frame": {
               "duration": 0,
               "redraw": true
              },
              "fromcurrent": true,
              "mode": "immediate",
              "transition": {
               "duration": 0,
               "easing": "linear"
              }
             }
            ],
            "label": "2022",
            "method": "animate"
           }
          ],
          "x": 0.1,
          "xanchor": "left",
          "y": 0,
          "yanchor": "top"
         }
        ],
        "template": {
         "data": {
          "bar": [
           {
            "error_x": {
             "color": "#2a3f5f"
            },
            "error_y": {
             "color": "#2a3f5f"
            },
            "marker": {
             "line": {
              "color": "#E5ECF6",
              "width": 0.5
             },
             "pattern": {
              "fillmode": "overlay",
              "size": 10,
              "solidity": 0.2
             }
            },
            "type": "bar"
           }
          ],
          "barpolar": [
           {
            "marker": {
             "line": {
              "color": "#E5ECF6",
              "width": 0.5
             },
             "pattern": {
              "fillmode": "overlay",
              "size": 10,
              "solidity": 0.2
             }
            },
            "type": "barpolar"
           }
          ],
          "carpet": [
           {
            "aaxis": {
             "endlinecolor": "#2a3f5f",
             "gridcolor": "white",
             "linecolor": "white",
             "minorgridcolor": "white",
             "startlinecolor": "#2a3f5f"
            },
            "baxis": {
             "endlinecolor": "#2a3f5f",
             "gridcolor": "white",
             "linecolor": "white",
             "minorgridcolor": "white",
             "startlinecolor": "#2a3f5f"
            },
            "type": "carpet"
           }
          ],
          "choropleth": [
           {
            "colorbar": {
             "outlinewidth": 0,
             "ticks": ""
            },
            "type": "choropleth"
           }
          ],
          "contour": [
           {
            "colorbar": {
             "outlinewidth": 0,
             "ticks": ""
            },
            "colorscale": [
             [
              0,
              "#0d0887"
             ],
             [
              0.1111111111111111,
              "#46039f"
             ],
             [
              0.2222222222222222,
              "#7201a8"
             ],
             [
              0.3333333333333333,
              "#9c179e"
             ],
             [
              0.4444444444444444,
              "#bd3786"
             ],
             [
              0.5555555555555556,
              "#d8576b"
             ],
             [
              0.6666666666666666,
              "#ed7953"
             ],
             [
              0.7777777777777778,
              "#fb9f3a"
             ],
             [
              0.8888888888888888,
              "#fdca26"
             ],
             [
              1,
              "#f0f921"
             ]
            ],
            "type": "contour"
           }
          ],
          "contourcarpet": [
           {
            "colorbar": {
             "outlinewidth": 0,
             "ticks": ""
            },
            "type": "contourcarpet"
           }
          ],
          "heatmap": [
           {
            "colorbar": {
             "outlinewidth": 0,
             "ticks": ""
            },
            "colorscale": [
             [
              0,
              "#0d0887"
             ],
             [
              0.1111111111111111,
              "#46039f"
             ],
             [
              0.2222222222222222,
              "#7201a8"
             ],
             [
              0.3333333333333333,
              "#9c179e"
             ],
             [
              0.4444444444444444,
              "#bd3786"
             ],
             [
              0.5555555555555556,
              "#d8576b"
             ],
             [
              0.6666666666666666,
              "#ed7953"
             ],
             [
              0.7777777777777778,
              "#fb9f3a"
             ],
             [
              0.8888888888888888,
              "#fdca26"
             ],
             [
              1,
              "#f0f921"
             ]
            ],
            "type": "heatmap"
           }
          ],
          "heatmapgl": [
           {
            "colorbar": {
             "outlinewidth": 0,
             "ticks": ""
            },
            "colorscale": [
             [
              0,
              "#0d0887"
             ],
             [
              0.1111111111111111,
              "#46039f"
             ],
             [
              0.2222222222222222,
              "#7201a8"
             ],
             [
              0.3333333333333333,
              "#9c179e"
             ],
             [
              0.4444444444444444,
              "#bd3786"
             ],
             [
              0.5555555555555556,
              "#d8576b"
             ],
             [
              0.6666666666666666,
              "#ed7953"
             ],
             [
              0.7777777777777778,
              "#fb9f3a"
             ],
             [
              0.8888888888888888,
              "#fdca26"
             ],
             [
              1,
              "#f0f921"
             ]
            ],
            "type": "heatmapgl"
           }
          ],
          "histogram": [
           {
            "marker": {
             "pattern": {
              "fillmode": "overlay",
              "size": 10,
              "solidity": 0.2
             }
            },
            "type": "histogram"
           }
          ],
          "histogram2d": [
           {
            "colorbar": {
             "outlinewidth": 0,
             "ticks": ""
            },
            "colorscale": [
             [
              0,
              "#0d0887"
             ],
             [
              0.1111111111111111,
              "#46039f"
             ],
             [
              0.2222222222222222,
              "#7201a8"
             ],
             [
              0.3333333333333333,
              "#9c179e"
             ],
             [
              0.4444444444444444,
              "#bd3786"
             ],
             [
              0.5555555555555556,
              "#d8576b"
             ],
             [
              0.6666666666666666,
              "#ed7953"
             ],
             [
              0.7777777777777778,
              "#fb9f3a"
             ],
             [
              0.8888888888888888,
              "#fdca26"
             ],
             [
              1,
              "#f0f921"
             ]
            ],
            "type": "histogram2d"
           }
          ],
          "histogram2dcontour": [
           {
            "colorbar": {
             "outlinewidth": 0,
             "ticks": ""
            },
            "colorscale": [
             [
              0,
              "#0d0887"
             ],
             [
              0.1111111111111111,
              "#46039f"
             ],
             [
              0.2222222222222222,
              "#7201a8"
             ],
             [
              0.3333333333333333,
              "#9c179e"
             ],
             [
              0.4444444444444444,
              "#bd3786"
             ],
             [
              0.5555555555555556,
              "#d8576b"
             ],
             [
              0.6666666666666666,
              "#ed7953"
             ],
             [
              0.7777777777777778,
              "#fb9f3a"
             ],
             [
              0.8888888888888888,
              "#fdca26"
             ],
             [
              1,
              "#f0f921"
             ]
            ],
            "type": "histogram2dcontour"
           }
          ],
          "mesh3d": [
           {
            "colorbar": {
             "outlinewidth": 0,
             "ticks": ""
            },
            "type": "mesh3d"
           }
          ],
          "parcoords": [
           {
            "line": {
             "colorbar": {
              "outlinewidth": 0,
              "ticks": ""
             }
            },
            "type": "parcoords"
           }
          ],
          "pie": [
           {
            "automargin": true,
            "type": "pie"
           }
          ],
          "scatter": [
           {
            "fillpattern": {
             "fillmode": "overlay",
             "size": 10,
             "solidity": 0.2
            },
            "type": "scatter"
           }
          ],
          "scatter3d": [
           {
            "line": {
             "colorbar": {
              "outlinewidth": 0,
              "ticks": ""
             }
            },
            "marker": {
             "colorbar": {
              "outlinewidth": 0,
              "ticks": ""
             }
            },
            "type": "scatter3d"
           }
          ],
          "scattercarpet": [
           {
            "marker": {
             "colorbar": {
              "outlinewidth": 0,
              "ticks": ""
             }
            },
            "type": "scattercarpet"
           }
          ],
          "scattergeo": [
           {
            "marker": {
             "colorbar": {
              "outlinewidth": 0,
              "ticks": ""
             }
            },
            "type": "scattergeo"
           }
          ],
          "scattergl": [
           {
            "marker": {
             "colorbar": {
              "outlinewidth": 0,
              "ticks": ""
             }
            },
            "type": "scattergl"
           }
          ],
          "scattermapbox": [
           {
            "marker": {
             "colorbar": {
              "outlinewidth": 0,
              "ticks": ""
             }
            },
            "type": "scattermapbox"
           }
          ],
          "scatterpolar": [
           {
            "marker": {
             "colorbar": {
              "outlinewidth": 0,
              "ticks": ""
             }
            },
            "type": "scatterpolar"
           }
          ],
          "scatterpolargl": [
           {
            "marker": {
             "colorbar": {
              "outlinewidth": 0,
              "ticks": ""
             }
            },
            "type": "scatterpolargl"
           }
          ],
          "scatterternary": [
           {
            "marker": {
             "colorbar": {
              "outlinewidth": 0,
              "ticks": ""
             }
            },
            "type": "scatterternary"
           }
          ],
          "surface": [
           {
            "colorbar": {
             "outlinewidth": 0,
             "ticks": ""
            },
            "colorscale": [
             [
              0,
              "#0d0887"
             ],
             [
              0.1111111111111111,
              "#46039f"
             ],
             [
              0.2222222222222222,
              "#7201a8"
             ],
             [
              0.3333333333333333,
              "#9c179e"
             ],
             [
              0.4444444444444444,
              "#bd3786"
             ],
             [
              0.5555555555555556,
              "#d8576b"
             ],
             [
              0.6666666666666666,
              "#ed7953"
             ],
             [
              0.7777777777777778,
              "#fb9f3a"
             ],
             [
              0.8888888888888888,
              "#fdca26"
             ],
             [
              1,
              "#f0f921"
             ]
            ],
            "type": "surface"
           }
          ],
          "table": [
           {
            "cells": {
             "fill": {
              "color": "#EBF0F8"
             },
             "line": {
              "color": "white"
             }
            },
            "header": {
             "fill": {
              "color": "#C8D4E3"
             },
             "line": {
              "color": "white"
             }
            },
            "type": "table"
           }
          ]
         },
         "layout": {
          "annotationdefaults": {
           "arrowcolor": "#2a3f5f",
           "arrowhead": 0,
           "arrowwidth": 1
          },
          "autotypenumbers": "strict",
          "coloraxis": {
           "colorbar": {
            "outlinewidth": 0,
            "ticks": ""
           }
          },
          "colorscale": {
           "diverging": [
            [
             0,
             "#8e0152"
            ],
            [
             0.1,
             "#c51b7d"
            ],
            [
             0.2,
             "#de77ae"
            ],
            [
             0.3,
             "#f1b6da"
            ],
            [
             0.4,
             "#fde0ef"
            ],
            [
             0.5,
             "#f7f7f7"
            ],
            [
             0.6,
             "#e6f5d0"
            ],
            [
             0.7,
             "#b8e186"
            ],
            [
             0.8,
             "#7fbc41"
            ],
            [
             0.9,
             "#4d9221"
            ],
            [
             1,
             "#276419"
            ]
           ],
           "sequential": [
            [
             0,
             "#0d0887"
            ],
            [
             0.1111111111111111,
             "#46039f"
            ],
            [
             0.2222222222222222,
             "#7201a8"
            ],
            [
             0.3333333333333333,
             "#9c179e"
            ],
            [
             0.4444444444444444,
             "#bd3786"
            ],
            [
             0.5555555555555556,
             "#d8576b"
            ],
            [
             0.6666666666666666,
             "#ed7953"
            ],
            [
             0.7777777777777778,
             "#fb9f3a"
            ],
            [
             0.8888888888888888,
             "#fdca26"
            ],
            [
             1,
             "#f0f921"
            ]
           ],
           "sequentialminus": [
            [
             0,
             "#0d0887"
            ],
            [
             0.1111111111111111,
             "#46039f"
            ],
            [
             0.2222222222222222,
             "#7201a8"
            ],
            [
             0.3333333333333333,
             "#9c179e"
            ],
            [
             0.4444444444444444,
             "#bd3786"
            ],
            [
             0.5555555555555556,
             "#d8576b"
            ],
            [
             0.6666666666666666,
             "#ed7953"
            ],
            [
             0.7777777777777778,
             "#fb9f3a"
            ],
            [
             0.8888888888888888,
             "#fdca26"
            ],
            [
             1,
             "#f0f921"
            ]
           ]
          },
          "colorway": [
           "#636efa",
           "#EF553B",
           "#00cc96",
           "#ab63fa",
           "#FFA15A",
           "#19d3f3",
           "#FF6692",
           "#B6E880",
           "#FF97FF",
           "#FECB52"
          ],
          "font": {
           "color": "#2a3f5f"
          },
          "geo": {
           "bgcolor": "white",
           "lakecolor": "white",
           "landcolor": "#E5ECF6",
           "showlakes": true,
           "showland": true,
           "subunitcolor": "white"
          },
          "hoverlabel": {
           "align": "left"
          },
          "hovermode": "closest",
          "mapbox": {
           "style": "light"
          },
          "paper_bgcolor": "white",
          "plot_bgcolor": "#E5ECF6",
          "polar": {
           "angularaxis": {
            "gridcolor": "white",
            "linecolor": "white",
            "ticks": ""
           },
           "bgcolor": "#E5ECF6",
           "radialaxis": {
            "gridcolor": "white",
            "linecolor": "white",
            "ticks": ""
           }
          },
          "scene": {
           "xaxis": {
            "backgroundcolor": "#E5ECF6",
            "gridcolor": "white",
            "gridwidth": 2,
            "linecolor": "white",
            "showbackground": true,
            "ticks": "",
            "zerolinecolor": "white"
           },
           "yaxis": {
            "backgroundcolor": "#E5ECF6",
            "gridcolor": "white",
            "gridwidth": 2,
            "linecolor": "white",
            "showbackground": true,
            "ticks": "",
            "zerolinecolor": "white"
           },
           "zaxis": {
            "backgroundcolor": "#E5ECF6",
            "gridcolor": "white",
            "gridwidth": 2,
            "linecolor": "white",
            "showbackground": true,
            "ticks": "",
            "zerolinecolor": "white"
           }
          },
          "shapedefaults": {
           "line": {
            "color": "#2a3f5f"
           }
          },
          "ternary": {
           "aaxis": {
            "gridcolor": "white",
            "linecolor": "white",
            "ticks": ""
           },
           "baxis": {
            "gridcolor": "white",
            "linecolor": "white",
            "ticks": ""
           },
           "bgcolor": "#E5ECF6",
           "caxis": {
            "gridcolor": "white",
            "linecolor": "white",
            "ticks": ""
           }
          },
          "title": {
           "x": 0.05
          },
          "xaxis": {
           "automargin": true,
           "gridcolor": "white",
           "linecolor": "white",
           "ticks": "",
           "title": {
            "standoff": 15
           },
           "zerolinecolor": "white",
           "zerolinewidth": 2
          },
          "yaxis": {
           "automargin": true,
           "gridcolor": "white",
           "linecolor": "white",
           "ticks": "",
           "title": {
            "standoff": 15
           },
           "zerolinecolor": "white",
           "zerolinewidth": 2
          }
         }
        },
        "title": {
         "font": {
          "size": 20
         },
         "text": "Cumulative Electric Vehicle sales in the United States",
         "x": 0.5,
         "xanchor": "center",
         "y": 0.95
        },
        "updatemenus": [
         {
          "buttons": [
           {
            "args": [
             null,
             {
              "frame": {
               "duration": 500,
               "redraw": true
              },
              "fromcurrent": true,
              "mode": "immediate",
              "transition": {
               "duration": 500,
               "easing": "linear"
              }
             }
            ],
            "label": "&#9654;",
            "method": "animate"
           },
           {
            "args": [
             [
              null
             ],
             {
              "frame": {
               "duration": 0,
               "redraw": true
              },
              "fromcurrent": true,
              "mode": "immediate",
              "transition": {
               "duration": 0,
               "easing": "linear"
              }
             }
            ],
            "label": "&#9724;",
            "method": "animate"
           }
          ],
          "direction": "left",
          "pad": {
           "r": 10,
           "t": 70
          },
          "showactive": false,
          "type": "buttons",
          "x": 0.1,
          "xanchor": "right",
          "y": 0,
          "yanchor": "top"
         }
        ],
        "width": 700
       }
      },
      "text/html": [
       "<div>                            <div id=\"559f817d-c22c-4342-95b7-0ac9efeaa8a1\" class=\"plotly-graph-div\" style=\"height:500px; width:700px;\"></div>            <script type=\"text/javascript\">                require([\"plotly\"], function(Plotly) {                    window.PLOTLYENV=window.PLOTLYENV || {};                                    if (document.getElementById(\"559f817d-c22c-4342-95b7-0ac9efeaa8a1\")) {                    Plotly.newPlot(                        \"559f817d-c22c-4342-95b7-0ac9efeaa8a1\",                        [{\"coloraxis\":\"coloraxis\",\"geo\":\"geo\",\"hovertemplate\":\"Date=2000<br>State=%{location}<br>Count=%{z}<extra></extra>\",\"locationmode\":\"USA-states\",\"locations\":[\"FL\",\"TN\",\"NJ\",\"CA\",\"NY\",\"CO\",\"MT\",\"VA\",\"TX\",\"CT\",\"MI\",\"WI\",\"WA\"],\"name\":\"\",\"z\":[0,0,0,0,0,0,0,0,0,0,0,0,0],\"type\":\"choropleth\"}],                        {\"template\":{\"data\":{\"histogram2dcontour\":[{\"type\":\"histogram2dcontour\",\"colorbar\":{\"outlinewidth\":0,\"ticks\":\"\"},\"colorscale\":[[0.0,\"#0d0887\"],[0.1111111111111111,\"#46039f\"],[0.2222222222222222,\"#7201a8\"],[0.3333333333333333,\"#9c179e\"],[0.4444444444444444,\"#bd3786\"],[0.5555555555555556,\"#d8576b\"],[0.6666666666666666,\"#ed7953\"],[0.7777777777777778,\"#fb9f3a\"],[0.8888888888888888,\"#fdca26\"],[1.0,\"#f0f921\"]]}],\"choropleth\":[{\"type\":\"choropleth\",\"colorbar\":{\"outlinewidth\":0,\"ticks\":\"\"}}],\"histogram2d\":[{\"type\":\"histogram2d\",\"colorbar\":{\"outlinewidth\":0,\"ticks\":\"\"},\"colorscale\":[[0.0,\"#0d0887\"],[0.1111111111111111,\"#46039f\"],[0.2222222222222222,\"#7201a8\"],[0.3333333333333333,\"#9c179e\"],[0.4444444444444444,\"#bd3786\"],[0.5555555555555556,\"#d8576b\"],[0.6666666666666666,\"#ed7953\"],[0.7777777777777778,\"#fb9f3a\"],[0.8888888888888888,\"#fdca26\"],[1.0,\"#f0f921\"]]}],\"heatmap\":[{\"type\":\"heatmap\",\"colorbar\":{\"outlinewidth\":0,\"ticks\":\"\"},\"colorscale\":[[0.0,\"#0d0887\"],[0.1111111111111111,\"#46039f\"],[0.2222222222222222,\"#7201a8\"],[0.3333333333333333,\"#9c179e\"],[0.4444444444444444,\"#bd3786\"],[0.5555555555555556,\"#d8576b\"],[0.6666666666666666,\"#ed7953\"],[0.7777777777777778,\"#fb9f3a\"],[0.8888888888888888,\"#fdca26\"],[1.0,\"#f0f921\"]]}],\"heatmapgl\":[{\"type\":\"heatmapgl\",\"colorbar\":{\"outlinewidth\":0,\"ticks\":\"\"},\"colorscale\":[[0.0,\"#0d0887\"],[0.1111111111111111,\"#46039f\"],[0.2222222222222222,\"#7201a8\"],[0.3333333333333333,\"#9c179e\"],[0.4444444444444444,\"#bd3786\"],[0.5555555555555556,\"#d8576b\"],[0.6666666666666666,\"#ed7953\"],[0.7777777777777778,\"#fb9f3a\"],[0.8888888888888888,\"#fdca26\"],[1.0,\"#f0f921\"]]}],\"contourcarpet\":[{\"type\":\"contourcarpet\",\"colorbar\":{\"outlinewidth\":0,\"ticks\":\"\"}}],\"contour\":[{\"type\":\"contour\",\"colorbar\":{\"outlinewidth\":0,\"ticks\":\"\"},\"colorscale\":[[0.0,\"#0d0887\"],[0.1111111111111111,\"#46039f\"],[0.2222222222222222,\"#7201a8\"],[0.3333333333333333,\"#9c179e\"],[0.4444444444444444,\"#bd3786\"],[0.5555555555555556,\"#d8576b\"],[0.6666666666666666,\"#ed7953\"],[0.7777777777777778,\"#fb9f3a\"],[0.8888888888888888,\"#fdca26\"],[1.0,\"#f0f921\"]]}],\"surface\":[{\"type\":\"surface\",\"colorbar\":{\"outlinewidth\":0,\"ticks\":\"\"},\"colorscale\":[[0.0,\"#0d0887\"],[0.1111111111111111,\"#46039f\"],[0.2222222222222222,\"#7201a8\"],[0.3333333333333333,\"#9c179e\"],[0.4444444444444444,\"#bd3786\"],[0.5555555555555556,\"#d8576b\"],[0.6666666666666666,\"#ed7953\"],[0.7777777777777778,\"#fb9f3a\"],[0.8888888888888888,\"#fdca26\"],[1.0,\"#f0f921\"]]}],\"mesh3d\":[{\"type\":\"mesh3d\",\"colorbar\":{\"outlinewidth\":0,\"ticks\":\"\"}}],\"scatter\":[{\"fillpattern\":{\"fillmode\":\"overlay\",\"size\":10,\"solidity\":0.2},\"type\":\"scatter\"}],\"parcoords\":[{\"type\":\"parcoords\",\"line\":{\"colorbar\":{\"outlinewidth\":0,\"ticks\":\"\"}}}],\"scatterpolargl\":[{\"type\":\"scatterpolargl\",\"marker\":{\"colorbar\":{\"outlinewidth\":0,\"ticks\":\"\"}}}],\"bar\":[{\"error_x\":{\"color\":\"#2a3f5f\"},\"error_y\":{\"color\":\"#2a3f5f\"},\"marker\":{\"line\":{\"color\":\"#E5ECF6\",\"width\":0.5},\"pattern\":{\"fillmode\":\"overlay\",\"size\":10,\"solidity\":0.2}},\"type\":\"bar\"}],\"scattergeo\":[{\"type\":\"scattergeo\",\"marker\":{\"colorbar\":{\"outlinewidth\":0,\"ticks\":\"\"}}}],\"scatterpolar\":[{\"type\":\"scatterpolar\",\"marker\":{\"colorbar\":{\"outlinewidth\":0,\"ticks\":\"\"}}}],\"histogram\":[{\"marker\":{\"pattern\":{\"fillmode\":\"overlay\",\"size\":10,\"solidity\":0.2}},\"type\":\"histogram\"}],\"scattergl\":[{\"type\":\"scattergl\",\"marker\":{\"colorbar\":{\"outlinewidth\":0,\"ticks\":\"\"}}}],\"scatter3d\":[{\"type\":\"scatter3d\",\"line\":{\"colorbar\":{\"outlinewidth\":0,\"ticks\":\"\"}},\"marker\":{\"colorbar\":{\"outlinewidth\":0,\"ticks\":\"\"}}}],\"scattermapbox\":[{\"type\":\"scattermapbox\",\"marker\":{\"colorbar\":{\"outlinewidth\":0,\"ticks\":\"\"}}}],\"scatterternary\":[{\"type\":\"scatterternary\",\"marker\":{\"colorbar\":{\"outlinewidth\":0,\"ticks\":\"\"}}}],\"scattercarpet\":[{\"type\":\"scattercarpet\",\"marker\":{\"colorbar\":{\"outlinewidth\":0,\"ticks\":\"\"}}}],\"carpet\":[{\"aaxis\":{\"endlinecolor\":\"#2a3f5f\",\"gridcolor\":\"white\",\"linecolor\":\"white\",\"minorgridcolor\":\"white\",\"startlinecolor\":\"#2a3f5f\"},\"baxis\":{\"endlinecolor\":\"#2a3f5f\",\"gridcolor\":\"white\",\"linecolor\":\"white\",\"minorgridcolor\":\"white\",\"startlinecolor\":\"#2a3f5f\"},\"type\":\"carpet\"}],\"table\":[{\"cells\":{\"fill\":{\"color\":\"#EBF0F8\"},\"line\":{\"color\":\"white\"}},\"header\":{\"fill\":{\"color\":\"#C8D4E3\"},\"line\":{\"color\":\"white\"}},\"type\":\"table\"}],\"barpolar\":[{\"marker\":{\"line\":{\"color\":\"#E5ECF6\",\"width\":0.5},\"pattern\":{\"fillmode\":\"overlay\",\"size\":10,\"solidity\":0.2}},\"type\":\"barpolar\"}],\"pie\":[{\"automargin\":true,\"type\":\"pie\"}]},\"layout\":{\"autotypenumbers\":\"strict\",\"colorway\":[\"#636efa\",\"#EF553B\",\"#00cc96\",\"#ab63fa\",\"#FFA15A\",\"#19d3f3\",\"#FF6692\",\"#B6E880\",\"#FF97FF\",\"#FECB52\"],\"font\":{\"color\":\"#2a3f5f\"},\"hovermode\":\"closest\",\"hoverlabel\":{\"align\":\"left\"},\"paper_bgcolor\":\"white\",\"plot_bgcolor\":\"#E5ECF6\",\"polar\":{\"bgcolor\":\"#E5ECF6\",\"angularaxis\":{\"gridcolor\":\"white\",\"linecolor\":\"white\",\"ticks\":\"\"},\"radialaxis\":{\"gridcolor\":\"white\",\"linecolor\":\"white\",\"ticks\":\"\"}},\"ternary\":{\"bgcolor\":\"#E5ECF6\",\"aaxis\":{\"gridcolor\":\"white\",\"linecolor\":\"white\",\"ticks\":\"\"},\"baxis\":{\"gridcolor\":\"white\",\"linecolor\":\"white\",\"ticks\":\"\"},\"caxis\":{\"gridcolor\":\"white\",\"linecolor\":\"white\",\"ticks\":\"\"}},\"coloraxis\":{\"colorbar\":{\"outlinewidth\":0,\"ticks\":\"\"}},\"colorscale\":{\"sequential\":[[0.0,\"#0d0887\"],[0.1111111111111111,\"#46039f\"],[0.2222222222222222,\"#7201a8\"],[0.3333333333333333,\"#9c179e\"],[0.4444444444444444,\"#bd3786\"],[0.5555555555555556,\"#d8576b\"],[0.6666666666666666,\"#ed7953\"],[0.7777777777777778,\"#fb9f3a\"],[0.8888888888888888,\"#fdca26\"],[1.0,\"#f0f921\"]],\"sequentialminus\":[[0.0,\"#0d0887\"],[0.1111111111111111,\"#46039f\"],[0.2222222222222222,\"#7201a8\"],[0.3333333333333333,\"#9c179e\"],[0.4444444444444444,\"#bd3786\"],[0.5555555555555556,\"#d8576b\"],[0.6666666666666666,\"#ed7953\"],[0.7777777777777778,\"#fb9f3a\"],[0.8888888888888888,\"#fdca26\"],[1.0,\"#f0f921\"]],\"diverging\":[[0,\"#8e0152\"],[0.1,\"#c51b7d\"],[0.2,\"#de77ae\"],[0.3,\"#f1b6da\"],[0.4,\"#fde0ef\"],[0.5,\"#f7f7f7\"],[0.6,\"#e6f5d0\"],[0.7,\"#b8e186\"],[0.8,\"#7fbc41\"],[0.9,\"#4d9221\"],[1,\"#276419\"]]},\"xaxis\":{\"gridcolor\":\"white\",\"linecolor\":\"white\",\"ticks\":\"\",\"title\":{\"standoff\":15},\"zerolinecolor\":\"white\",\"automargin\":true,\"zerolinewidth\":2},\"yaxis\":{\"gridcolor\":\"white\",\"linecolor\":\"white\",\"ticks\":\"\",\"title\":{\"standoff\":15},\"zerolinecolor\":\"white\",\"automargin\":true,\"zerolinewidth\":2},\"scene\":{\"xaxis\":{\"backgroundcolor\":\"#E5ECF6\",\"gridcolor\":\"white\",\"linecolor\":\"white\",\"showbackground\":true,\"ticks\":\"\",\"zerolinecolor\":\"white\",\"gridwidth\":2},\"yaxis\":{\"backgroundcolor\":\"#E5ECF6\",\"gridcolor\":\"white\",\"linecolor\":\"white\",\"showbackground\":true,\"ticks\":\"\",\"zerolinecolor\":\"white\",\"gridwidth\":2},\"zaxis\":{\"backgroundcolor\":\"#E5ECF6\",\"gridcolor\":\"white\",\"linecolor\":\"white\",\"showbackground\":true,\"ticks\":\"\",\"zerolinecolor\":\"white\",\"gridwidth\":2}},\"shapedefaults\":{\"line\":{\"color\":\"#2a3f5f\"}},\"annotationdefaults\":{\"arrowcolor\":\"#2a3f5f\",\"arrowhead\":0,\"arrowwidth\":1},\"geo\":{\"bgcolor\":\"white\",\"landcolor\":\"#E5ECF6\",\"subunitcolor\":\"white\",\"showland\":true,\"showlakes\":true,\"lakecolor\":\"white\"},\"title\":{\"x\":0.05},\"mapbox\":{\"style\":\"light\"}}},\"geo\":{\"domain\":{\"x\":[0.0,1.0],\"y\":[0.0,1.0]},\"center\":{},\"scope\":\"usa\"},\"coloraxis\":{\"colorbar\":{\"title\":{\"text\":\"Count\"}},\"colorscale\":[[0.0,\"#fde725\"],[0.1111111111111111,\"#b5de2b\"],[0.2222222222222222,\"#6ece58\"],[0.3333333333333333,\"#35b779\"],[0.4444444444444444,\"#1f9e89\"],[0.5555555555555556,\"#26828e\"],[0.6666666666666666,\"#31688e\"],[0.7777777777777778,\"#3e4989\"],[0.8888888888888888,\"#482878\"],[1.0,\"#440154\"]]},\"legend\":{\"tracegroupgap\":0},\"margin\":{\"t\":100,\"b\":0,\"r\":100,\"l\":0},\"updatemenus\":[{\"buttons\":[{\"args\":[null,{\"frame\":{\"duration\":500,\"redraw\":true},\"mode\":\"immediate\",\"fromcurrent\":true,\"transition\":{\"duration\":500,\"easing\":\"linear\"}}],\"label\":\"&#9654;\",\"method\":\"animate\"},{\"args\":[[null],{\"frame\":{\"duration\":0,\"redraw\":true},\"mode\":\"immediate\",\"fromcurrent\":true,\"transition\":{\"duration\":0,\"easing\":\"linear\"}}],\"label\":\"&#9724;\",\"method\":\"animate\"}],\"direction\":\"left\",\"pad\":{\"r\":10,\"t\":70},\"showactive\":false,\"type\":\"buttons\",\"x\":0.1,\"xanchor\":\"right\",\"y\":0,\"yanchor\":\"top\"}],\"sliders\":[{\"active\":0,\"currentvalue\":{\"prefix\":\"Year=\"},\"len\":0.9,\"pad\":{\"b\":10,\"t\":60},\"steps\":[{\"args\":[[\"2000\"],{\"frame\":{\"duration\":0,\"redraw\":true},\"mode\":\"immediate\",\"fromcurrent\":true,\"transition\":{\"duration\":0,\"easing\":\"linear\"}}],\"label\":\"2000\",\"method\":\"animate\"},{\"args\":[[\"2001\"],{\"frame\":{\"duration\":0,\"redraw\":true},\"mode\":\"immediate\",\"fromcurrent\":true,\"transition\":{\"duration\":0,\"easing\":\"linear\"}}],\"label\":\"2001\",\"method\":\"animate\"},{\"args\":[[\"2002\"],{\"frame\":{\"duration\":0,\"redraw\":true},\"mode\":\"immediate\",\"fromcurrent\":true,\"transition\":{\"duration\":0,\"easing\":\"linear\"}}],\"label\":\"2002\",\"method\":\"animate\"},{\"args\":[[\"2003\"],{\"frame\":{\"duration\":0,\"redraw\":true},\"mode\":\"immediate\",\"fromcurrent\":true,\"transition\":{\"duration\":0,\"easing\":\"linear\"}}],\"label\":\"2003\",\"method\":\"animate\"},{\"args\":[[\"2004\"],{\"frame\":{\"duration\":0,\"redraw\":true},\"mode\":\"immediate\",\"fromcurrent\":true,\"transition\":{\"duration\":0,\"easing\":\"linear\"}}],\"label\":\"2004\",\"method\":\"animate\"},{\"args\":[[\"2005\"],{\"frame\":{\"duration\":0,\"redraw\":true},\"mode\":\"immediate\",\"fromcurrent\":true,\"transition\":{\"duration\":0,\"easing\":\"linear\"}}],\"label\":\"2005\",\"method\":\"animate\"},{\"args\":[[\"2006\"],{\"frame\":{\"duration\":0,\"redraw\":true},\"mode\":\"immediate\",\"fromcurrent\":true,\"transition\":{\"duration\":0,\"easing\":\"linear\"}}],\"label\":\"2006\",\"method\":\"animate\"},{\"args\":[[\"2007\"],{\"frame\":{\"duration\":0,\"redraw\":true},\"mode\":\"immediate\",\"fromcurrent\":true,\"transition\":{\"duration\":0,\"easing\":\"linear\"}}],\"label\":\"2007\",\"method\":\"animate\"},{\"args\":[[\"2008\"],{\"frame\":{\"duration\":0,\"redraw\":true},\"mode\":\"immediate\",\"fromcurrent\":true,\"transition\":{\"duration\":0,\"easing\":\"linear\"}}],\"label\":\"2008\",\"method\":\"animate\"},{\"args\":[[\"2009\"],{\"frame\":{\"duration\":0,\"redraw\":true},\"mode\":\"immediate\",\"fromcurrent\":true,\"transition\":{\"duration\":0,\"easing\":\"linear\"}}],\"label\":\"2009\",\"method\":\"animate\"},{\"args\":[[\"2010\"],{\"frame\":{\"duration\":0,\"redraw\":true},\"mode\":\"immediate\",\"fromcurrent\":true,\"transition\":{\"duration\":0,\"easing\":\"linear\"}}],\"label\":\"2010\",\"method\":\"animate\"},{\"args\":[[\"2011\"],{\"frame\":{\"duration\":0,\"redraw\":true},\"mode\":\"immediate\",\"fromcurrent\":true,\"transition\":{\"duration\":0,\"easing\":\"linear\"}}],\"label\":\"2011\",\"method\":\"animate\"},{\"args\":[[\"2012\"],{\"frame\":{\"duration\":0,\"redraw\":true},\"mode\":\"immediate\",\"fromcurrent\":true,\"transition\":{\"duration\":0,\"easing\":\"linear\"}}],\"label\":\"2012\",\"method\":\"animate\"},{\"args\":[[\"2013\"],{\"frame\":{\"duration\":0,\"redraw\":true},\"mode\":\"immediate\",\"fromcurrent\":true,\"transition\":{\"duration\":0,\"easing\":\"linear\"}}],\"label\":\"2013\",\"method\":\"animate\"},{\"args\":[[\"2014\"],{\"frame\":{\"duration\":0,\"redraw\":true},\"mode\":\"immediate\",\"fromcurrent\":true,\"transition\":{\"duration\":0,\"easing\":\"linear\"}}],\"label\":\"2014\",\"method\":\"animate\"},{\"args\":[[\"2015\"],{\"frame\":{\"duration\":0,\"redraw\":true},\"mode\":\"immediate\",\"fromcurrent\":true,\"transition\":{\"duration\":0,\"easing\":\"linear\"}}],\"label\":\"2015\",\"method\":\"animate\"},{\"args\":[[\"2016\"],{\"frame\":{\"duration\":0,\"redraw\":true},\"mode\":\"immediate\",\"fromcurrent\":true,\"transition\":{\"duration\":0,\"easing\":\"linear\"}}],\"label\":\"2016\",\"method\":\"animate\"},{\"args\":[[\"2017\"],{\"frame\":{\"duration\":0,\"redraw\":true},\"mode\":\"immediate\",\"fromcurrent\":true,\"transition\":{\"duration\":0,\"easing\":\"linear\"}}],\"label\":\"2017\",\"method\":\"animate\"},{\"args\":[[\"2018\"],{\"frame\":{\"duration\":0,\"redraw\":true},\"mode\":\"immediate\",\"fromcurrent\":true,\"transition\":{\"duration\":0,\"easing\":\"linear\"}}],\"label\":\"2018\",\"method\":\"animate\"},{\"args\":[[\"2019\"],{\"frame\":{\"duration\":0,\"redraw\":true},\"mode\":\"immediate\",\"fromcurrent\":true,\"transition\":{\"duration\":0,\"easing\":\"linear\"}}],\"label\":\"2019\",\"method\":\"animate\"},{\"args\":[[\"2020\"],{\"frame\":{\"duration\":0,\"redraw\":true},\"mode\":\"immediate\",\"fromcurrent\":true,\"transition\":{\"duration\":0,\"easing\":\"linear\"}}],\"label\":\"2020\",\"method\":\"animate\"},{\"args\":[[\"2021\"],{\"frame\":{\"duration\":0,\"redraw\":true},\"mode\":\"immediate\",\"fromcurrent\":true,\"transition\":{\"duration\":0,\"easing\":\"linear\"}}],\"label\":\"2021\",\"method\":\"animate\"},{\"args\":[[\"2022\"],{\"frame\":{\"duration\":0,\"redraw\":true},\"mode\":\"immediate\",\"fromcurrent\":true,\"transition\":{\"duration\":0,\"easing\":\"linear\"}}],\"label\":\"2022\",\"method\":\"animate\"}],\"x\":0.1,\"xanchor\":\"left\",\"y\":0,\"yanchor\":\"top\"}],\"title\":{\"font\":{\"size\":20},\"text\":\"Cumulative Electric Vehicle sales in the United States\",\"xanchor\":\"center\",\"x\":0.5,\"y\":0.95},\"width\":700,\"height\":500},                        {\"responsive\": true}                    ).then(function(){\n",
       "                            Plotly.addFrames('559f817d-c22c-4342-95b7-0ac9efeaa8a1', [{\"data\":[{\"coloraxis\":\"coloraxis\",\"geo\":\"geo\",\"hovertemplate\":\"Date=2000<br>State=%{location}<br>Count=%{z}<extra></extra>\",\"locationmode\":\"USA-states\",\"locations\":[\"FL\",\"TN\",\"NJ\",\"CA\",\"NY\",\"CO\",\"MT\",\"VA\",\"TX\",\"CT\",\"MI\",\"WI\",\"WA\"],\"name\":\"\",\"z\":[0,0,0,0,0,0,0,0,0,0,0,0,0],\"type\":\"choropleth\"}],\"name\":\"2000\"},{\"data\":[{\"coloraxis\":\"coloraxis\",\"geo\":\"geo\",\"hovertemplate\":\"Date=2001<br>State=%{location}<br>Count=%{z}<extra></extra>\",\"locationmode\":\"USA-states\",\"locations\":[\"FL\",\"TN\",\"NJ\",\"CA\",\"NY\",\"CO\",\"MT\",\"VA\",\"TX\",\"CT\",\"MI\",\"WI\",\"WA\"],\"name\":\"\",\"z\":[0,0,0,0,0,0,0,0,0,0,0,0,0],\"type\":\"choropleth\"}],\"name\":\"2001\"},{\"data\":[{\"coloraxis\":\"coloraxis\",\"geo\":\"geo\",\"hovertemplate\":\"Date=2002<br>State=%{location}<br>Count=%{z}<extra></extra>\",\"locationmode\":\"USA-states\",\"locations\":[\"FL\",\"TN\",\"NJ\",\"CA\",\"NY\",\"CO\",\"MT\",\"VA\",\"TX\",\"CT\",\"MI\",\"WI\",\"WA\"],\"name\":\"\",\"z\":[0,0,0,0,0,0,0,8,0,0,0,0,0],\"type\":\"choropleth\"}],\"name\":\"2002\"},{\"data\":[{\"coloraxis\":\"coloraxis\",\"geo\":\"geo\",\"hovertemplate\":\"Date=2003<br>State=%{location}<br>Count=%{z}<extra></extra>\",\"locationmode\":\"USA-states\",\"locations\":[\"FL\",\"TN\",\"NJ\",\"CA\",\"NY\",\"CO\",\"MT\",\"VA\",\"TX\",\"CT\",\"MI\",\"WI\",\"WA\"],\"name\":\"\",\"z\":[0,0,0,0,0,0,1,13,0,0,0,0,0],\"type\":\"choropleth\"}],\"name\":\"2003\"},{\"data\":[{\"coloraxis\":\"coloraxis\",\"geo\":\"geo\",\"hovertemplate\":\"Date=2004<br>State=%{location}<br>Count=%{z}<extra></extra>\",\"locationmode\":\"USA-states\",\"locations\":[\"FL\",\"TN\",\"NJ\",\"CA\",\"NY\",\"CO\",\"MT\",\"VA\",\"TX\",\"CT\",\"MI\",\"WI\",\"WA\"],\"name\":\"\",\"z\":[0,0,0,0,0,0,13,18,0,0,0,0,0],\"type\":\"choropleth\"}],\"name\":\"2004\"},{\"data\":[{\"coloraxis\":\"coloraxis\",\"geo\":\"geo\",\"hovertemplate\":\"Date=2005<br>State=%{location}<br>Count=%{z}<extra></extra>\",\"locationmode\":\"USA-states\",\"locations\":[\"FL\",\"TN\",\"NJ\",\"CA\",\"NY\",\"CO\",\"MT\",\"VA\",\"TX\",\"CT\",\"MI\",\"WI\",\"WA\"],\"name\":\"\",\"z\":[0,0,0,0,0,0,17,23,0,0,0,0,0],\"type\":\"choropleth\"}],\"name\":\"2005\"},{\"data\":[{\"coloraxis\":\"coloraxis\",\"geo\":\"geo\",\"hovertemplate\":\"Date=2006<br>State=%{location}<br>Count=%{z}<extra></extra>\",\"locationmode\":\"USA-states\",\"locations\":[\"FL\",\"TN\",\"NJ\",\"CA\",\"NY\",\"CO\",\"MT\",\"VA\",\"TX\",\"CT\",\"MI\",\"WI\",\"WA\"],\"name\":\"\",\"z\":[0,0,0,0,0,0,18,58,0,0,0,0,0],\"type\":\"choropleth\"}],\"name\":\"2006\"},{\"data\":[{\"coloraxis\":\"coloraxis\",\"geo\":\"geo\",\"hovertemplate\":\"Date=2007<br>State=%{location}<br>Count=%{z}<extra></extra>\",\"locationmode\":\"USA-states\",\"locations\":[\"FL\",\"TN\",\"NJ\",\"CA\",\"NY\",\"CO\",\"MT\",\"VA\",\"TX\",\"CT\",\"MI\",\"WI\",\"WA\"],\"name\":\"\",\"z\":[0,0,0,0,0,0,19,73,0,0,0,0,0],\"type\":\"choropleth\"}],\"name\":\"2007\"},{\"data\":[{\"coloraxis\":\"coloraxis\",\"geo\":\"geo\",\"hovertemplate\":\"Date=2008<br>State=%{location}<br>Count=%{z}<extra></extra>\",\"locationmode\":\"USA-states\",\"locations\":[\"FL\",\"TN\",\"NJ\",\"CA\",\"NY\",\"CO\",\"MT\",\"VA\",\"TX\",\"CT\",\"MI\",\"WI\",\"WA\"],\"name\":\"\",\"z\":[0,0,0,0,0,0,34,73,0,0,0,0,0],\"type\":\"choropleth\"}],\"name\":\"2008\"},{\"data\":[{\"coloraxis\":\"coloraxis\",\"geo\":\"geo\",\"hovertemplate\":\"Date=2009<br>State=%{location}<br>Count=%{z}<extra></extra>\",\"locationmode\":\"USA-states\",\"locations\":[\"FL\",\"TN\",\"NJ\",\"CA\",\"NY\",\"CO\",\"MT\",\"VA\",\"TX\",\"CT\",\"MI\",\"WI\",\"WA\"],\"name\":\"\",\"z\":[0,0,0,0,0,0,48,102,0,0,0,0,0],\"type\":\"choropleth\"}],\"name\":\"2009\"},{\"data\":[{\"coloraxis\":\"coloraxis\",\"geo\":\"geo\",\"hovertemplate\":\"Date=2010<br>State=%{location}<br>Count=%{z}<extra></extra>\",\"locationmode\":\"USA-states\",\"locations\":[\"FL\",\"TN\",\"NJ\",\"CA\",\"NY\",\"CO\",\"MT\",\"VA\",\"TX\",\"CT\",\"MI\",\"WI\",\"WA\"],\"name\":\"\",\"z\":[0,0,0,754,0,220,62,117,0,0,0,0,77],\"type\":\"choropleth\"}],\"name\":\"2010\"},{\"data\":[{\"coloraxis\":\"coloraxis\",\"geo\":\"geo\",\"hovertemplate\":\"Date=2011<br>State=%{location}<br>Count=%{z}<extra></extra>\",\"locationmode\":\"USA-states\",\"locations\":[\"FL\",\"TN\",\"NJ\",\"CA\",\"NY\",\"CO\",\"MT\",\"VA\",\"TX\",\"CT\",\"MI\",\"WI\",\"WA\"],\"name\":\"\",\"z\":[0,0,0,6611,2231,528,72,158,0,1,0,0,2531],\"type\":\"choropleth\"}],\"name\":\"2011\"},{\"data\":[{\"coloraxis\":\"coloraxis\",\"geo\":\"geo\",\"hovertemplate\":\"Date=2012<br>State=%{location}<br>Count=%{z}<extra></extra>\",\"locationmode\":\"USA-states\",\"locations\":[\"FL\",\"TN\",\"NJ\",\"CA\",\"NY\",\"CO\",\"MT\",\"VA\",\"TX\",\"CT\",\"MI\",\"WI\",\"WA\"],\"name\":\"\",\"z\":[0,0,0,24967,10208,1574,90,195,0,24,0,0,7450],\"type\":\"choropleth\"}],\"name\":\"2012\"},{\"data\":[{\"coloraxis\":\"coloraxis\",\"geo\":\"geo\",\"hovertemplate\":\"Date=2013<br>State=%{location}<br>Count=%{z}<extra></extra>\",\"locationmode\":\"USA-states\",\"locations\":[\"FL\",\"TN\",\"NJ\",\"CA\",\"NY\",\"CO\",\"MT\",\"VA\",\"TX\",\"CT\",\"MI\",\"WI\",\"WA\"],\"name\":\"\",\"z\":[0,0,0,77394,20749,4103,118,251,0,113,3,0,20264],\"type\":\"choropleth\"}],\"name\":\"2013\"},{\"data\":[{\"coloraxis\":\"coloraxis\",\"geo\":\"geo\",\"hovertemplate\":\"Date=2014<br>State=%{location}<br>Count=%{z}<extra></extra>\",\"locationmode\":\"USA-states\",\"locations\":[\"FL\",\"TN\",\"NJ\",\"CA\",\"NY\",\"CO\",\"MT\",\"VA\",\"TX\",\"CT\",\"MI\",\"WI\",\"WA\"],\"name\":\"\",\"z\":[0,0,0,186333,65595,8232,161,293,0,626,394,0,38033],\"type\":\"choropleth\"}],\"name\":\"2014\"},{\"data\":[{\"coloraxis\":\"coloraxis\",\"geo\":\"geo\",\"hovertemplate\":\"Date=2015<br>State=%{location}<br>Count=%{z}<extra></extra>\",\"locationmode\":\"USA-states\",\"locations\":[\"FL\",\"TN\",\"NJ\",\"CA\",\"NY\",\"CO\",\"MT\",\"VA\",\"TX\",\"CT\",\"MI\",\"WI\",\"WA\"],\"name\":\"\",\"z\":[0,0,0,352501,109709,14294,213,588,0,2606,949,0,61239],\"type\":\"choropleth\"}],\"name\":\"2015\"},{\"data\":[{\"coloraxis\":\"coloraxis\",\"geo\":\"geo\",\"hovertemplate\":\"Date=2016<br>State=%{location}<br>Count=%{z}<extra></extra>\",\"locationmode\":\"USA-states\",\"locations\":[\"FL\",\"TN\",\"NJ\",\"CA\",\"NY\",\"CO\",\"MT\",\"VA\",\"TX\",\"CT\",\"MI\",\"WI\",\"WA\"],\"name\":\"\",\"z\":[0,0,0,582672,210676,23264,272,3194,0,5220,1700,0,91935],\"type\":\"choropleth\"}],\"name\":\"2016\"},{\"data\":[{\"coloraxis\":\"coloraxis\",\"geo\":\"geo\",\"hovertemplate\":\"Date=2017<br>State=%{location}<br>Count=%{z}<extra></extra>\",\"locationmode\":\"USA-states\",\"locations\":[\"FL\",\"TN\",\"NJ\",\"CA\",\"NY\",\"CO\",\"MT\",\"VA\",\"TX\",\"CT\",\"MI\",\"WI\",\"WA\"],\"name\":\"\",\"z\":[0,0,23969,905434,476223,36444,404,15605,0,5220,9692,0,131807],\"type\":\"choropleth\"}],\"name\":\"2017\"},{\"data\":[{\"coloraxis\":\"coloraxis\",\"geo\":\"geo\",\"hovertemplate\":\"Date=2018<br>State=%{location}<br>Count=%{z}<extra></extra>\",\"locationmode\":\"USA-states\",\"locations\":[\"FL\",\"TN\",\"NJ\",\"CA\",\"NY\",\"CO\",\"MT\",\"VA\",\"TX\",\"CT\",\"MI\",\"WI\",\"WA\"],\"name\":\"\",\"z\":[67209,0,64388,1354001,989319,54467,1270,35124,0,11439,16741,6366,191083],\"type\":\"choropleth\"}],\"name\":\"2018\"},{\"data\":[{\"coloraxis\":\"coloraxis\",\"geo\":\"geo\",\"hovertemplate\":\"Date=2019<br>State=%{location}<br>Count=%{z}<extra></extra>\",\"locationmode\":\"USA-states\",\"locations\":[\"FL\",\"TN\",\"NJ\",\"CA\",\"NY\",\"CO\",\"MT\",\"VA\",\"TX\",\"CT\",\"MI\",\"WI\",\"WA\"],\"name\":\"\",\"z\":[124189,32701,121294,1913970,1614076,250968,1641,64060,2393,11439,42209,10577,541933],\"type\":\"choropleth\"}],\"name\":\"2019\"},{\"data\":[{\"coloraxis\":\"coloraxis\",\"geo\":\"geo\",\"hovertemplate\":\"Date=2020<br>State=%{location}<br>Count=%{z}<extra></extra>\",\"locationmode\":\"USA-states\",\"locations\":[\"FL\",\"TN\",\"NJ\",\"CA\",\"NY\",\"CO\",\"MT\",\"VA\",\"TX\",\"CT\",\"MI\",\"WI\",\"WA\"],\"name\":\"\",\"z\":[260753,70430,196900,2542443,2348980,638237,3090,94176,244379,11439,43628,15743,1225252],\"type\":\"choropleth\"}],\"name\":\"2020\"},{\"data\":[{\"coloraxis\":\"coloraxis\",\"geo\":\"geo\",\"hovertemplate\":\"Date=2021<br>State=%{location}<br>Count=%{z}<extra></extra>\",\"locationmode\":\"USA-states\",\"locations\":[\"FL\",\"TN\",\"NJ\",\"CA\",\"NY\",\"CO\",\"MT\",\"VA\",\"TX\",\"CT\",\"MI\",\"WI\",\"WA\"],\"name\":\"\",\"z\":[353974,128451,309872,2542443,3037548,1113181,5552,126954,1275028,11439,43628,21531,2106411],\"type\":\"choropleth\"}],\"name\":\"2021\"},{\"data\":[{\"coloraxis\":\"coloraxis\",\"geo\":\"geo\",\"hovertemplate\":\"Date=2022<br>State=%{location}<br>Count=%{z}<extra></extra>\",\"locationmode\":\"USA-states\",\"locations\":[\"FL\",\"TN\",\"NJ\",\"CA\",\"NY\",\"CO\",\"MT\",\"VA\",\"TX\",\"CT\",\"MI\",\"WI\",\"WA\"],\"name\":\"\",\"z\":[353974,167301,309872,2542443,3118179,1246097,5730,126989,1446588,11439,43628,29120,2648349],\"type\":\"choropleth\"}],\"name\":\"2022\"}]);\n",
       "                        }).then(function(){\n",
       "                            \n",
       "var gd = document.getElementById('559f817d-c22c-4342-95b7-0ac9efeaa8a1');\n",
       "var x = new MutationObserver(function (mutations, observer) {{\n",
       "        var display = window.getComputedStyle(gd).display;\n",
       "        if (!display || display === 'none') {{\n",
       "            console.log([gd, 'removed!']);\n",
       "            Plotly.purge(gd);\n",
       "            observer.disconnect();\n",
       "        }}\n",
       "}});\n",
       "\n",
       "// Listen for the removal of the full notebook cells\n",
       "var notebookContainer = gd.closest('#notebook-container');\n",
       "if (notebookContainer) {{\n",
       "    x.observe(notebookContainer, {childList: true});\n",
       "}}\n",
       "\n",
       "// Listen for the clearing of the current output cell\n",
       "var outputEl = gd.closest('.output');\n",
       "if (outputEl) {{\n",
       "    x.observe(outputEl, {childList: true});\n",
       "}}\n",
       "\n",
       "                        })                };                });            </script>        </div>"
      ]
     },
     "metadata": {},
     "output_type": "display_data"
    }
   ],
   "source": [
    "fig = px.choropleth(data_map,\n",
    "                    locations='State', \n",
    "                    locationmode=\"USA-states\",\n",
    "                    scope=\"usa\",\n",
    "                    color='Count',\n",
    "                    color_continuous_scale=\"Viridis_r\",\n",
    "                    animation_frame = 'Date'\n",
    "                        )\n",
    "fig.update_layout(\n",
    "                title_text=\"Cumulative Electric Vehicle sales in the United States\",\n",
    "                title_xanchor=\"center\",\n",
    "                title_font=dict(size=20),\n",
    "                title_x=0.5,\n",
    "                title_y=0.95,\n",
    "                geo=dict(scope='usa'),\n",
    "                width=700,\n",
    "                height=500,\n",
    "                margin=dict(t=100, b=0,r=100,  l=0)\n",
    "                )\n",
    "    \n",
    "fig.update_layout(sliders=[{\"currentvalue\": {\"prefix\": \"Year=\"}}])\n",
    "fig.show()"
   ]
  },
  {
   "cell_type": "markdown",
   "id": "97b34678",
   "metadata": {},
   "source": [
    "## Visualize data for states (top 5 EV makes per year)"
   ]
  },
  {
   "cell_type": "code",
   "execution_count": 4,
   "id": "84a10ae0",
   "metadata": {},
   "outputs": [],
   "source": [
    "dropdown_s=widgets.Dropdown(\n",
    "        options=states,\n",
    "        value='TN',\n",
    "        description='State:',\n",
    "        disabled=False,\n",
    "    )"
   ]
  },
  {
   "cell_type": "code",
   "execution_count": 5,
   "id": "0c304bb2",
   "metadata": {},
   "outputs": [
    {
     "data": {
      "application/vnd.jupyter.widget-view+json": {
       "model_id": "9d282e6c5c4049a49aaeea7bdf98cf56",
       "version_major": 2,
       "version_minor": 0
      },
      "text/plain": [
       "interactive(children=(Dropdown(description='State:', index=2, options=('FL', 'MN', 'TN', 'NJ', 'CA', 'NY', 'CO…"
      ]
     },
     "metadata": {},
     "output_type": "display_data"
    }
   ],
   "source": [
    "def plot_func(s):\n",
    "    p=bp(s)\n",
    "    data_hist=p.top_five()\n",
    "    my_raceplot = barplot(data_hist,  item_column='Make', value_column='Count', time_column='Year')\n",
    "    fig=my_raceplot.plot(item_label = 'Car Make', value_label = 'EVs sold', frame_duration = 800)\n",
    "    fig.update_layout(sliders=[{\"currentvalue\": {\"prefix\": \"Year=\"}}])\n",
    "    return fig\n",
    "widgets.interact(plot_func, s = dropdown_s);"
   ]
  }
 ],
 "metadata": {
  "kernelspec": {
   "display_name": "ds",
   "language": "python",
   "name": "ds"
  },
  "language_info": {
   "codemirror_mode": {
    "name": "ipython",
    "version": 3
   },
   "file_extension": ".py",
   "mimetype": "text/x-python",
   "name": "python",
   "nbconvert_exporter": "python",
   "pygments_lexer": "ipython3",
   "version": "3.10.6"
  }
 },
 "nbformat": 4,
 "nbformat_minor": 5
}
