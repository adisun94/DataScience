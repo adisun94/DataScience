{
 "cells": [
  {
   "cell_type": "markdown",
   "id": "3f682a93",
   "metadata": {},
   "source": [
    "## In this notebook, we will\n",
    "1. Build a NN to predict the reduction potential of molecules.\n",
    "2. Use tuned hyperparameter values from <font color='blue'>NN_hyperparameter_tuning/*.ipynb </font>"
   ]
  },
  {
   "cell_type": "code",
   "execution_count": 2,
   "id": "03dfdf5c",
   "metadata": {},
   "outputs": [],
   "source": [
    "import pandas as pd\n",
    "import matplotlib.pyplot as plt\n",
    "import numpy as np\n",
    "np.random.seed(1)\n",
    "import tensorflow as tf\n",
    "tf.random.set_seed(2)\n",
    "import statsmodels.api as sm\n",
    "import time"
   ]
  },
  {
   "cell_type": "code",
   "execution_count": 3,
   "id": "fddd8b8f",
   "metadata": {},
   "outputs": [],
   "source": [
    "#Keras/TensorFlow\n",
    "from tensorflow.keras.layers import Conv2D, MaxPooling2D, Flatten,Dense, Softmax\n",
    "from tensorflow.keras.models import Sequential, load_model\n",
    "from tensorflow.keras.optimizers import RMSprop\n",
    "from tensorflow.keras.callbacks import ModelCheckpoint\n",
    "from keras.optimizers import Adam\n",
    "\n",
    "#Keras image processing\n",
    "from keras.preprocessing.image import ImageDataGenerator\n",
    "from keras.preprocessing import image"
   ]
  },
  {
   "cell_type": "code",
   "execution_count": 4,
   "id": "a51b89d5",
   "metadata": {},
   "outputs": [],
   "source": [
    "#Sklearn tools\n",
    "from sklearn.metrics import mean_absolute_error, mean_squared_error, r2_score\n",
    "from sklearn.preprocessing import MinMaxScaler\n",
    "from sklearn.model_selection import train_test_split\n",
    "from sklearn.preprocessing import StandardScaler\n",
    "\n",
    "#Keras specials\n",
    "from keras.models import Sequential\n",
    "from keras.layers import Dense, Dropout\n",
    "from keras.optimizers import Adam\n",
    "from keras.callbacks import ReduceLROnPlateau"
   ]
  },
  {
   "cell_type": "markdown",
   "id": "e01c9b37",
   "metadata": {},
   "source": [
    "## Load csv files into DataFrames\n",
    "Data was previously split into training and testing sets in <font color='blue'>1.MolRedPot_FeatureEngineering.ipynb</font>"
   ]
  },
  {
   "cell_type": "code",
   "execution_count": 24,
   "id": "8d3d2895",
   "metadata": {},
   "outputs": [],
   "source": [
    "features=pd.read_csv('Data/features_train.csv',index_col=0)\n",
    "target=pd.read_csv('Data/target_train.csv',index_col=0)['ERed']\n",
    "\n",
    "features_std = StandardScaler().fit_transform(features)"
   ]
  },
  {
   "cell_type": "code",
   "execution_count": 25,
   "id": "e7680b73",
   "metadata": {},
   "outputs": [],
   "source": [
    "features_std=tf.convert_to_tensor(features_std,dtype=tf.float64)\n",
    "target=tf.convert_to_tensor(target,dtype=tf.float64)"
   ]
  },
  {
   "cell_type": "code",
   "execution_count": 26,
   "id": "70920c84",
   "metadata": {},
   "outputs": [
    {
     "name": "stdout",
     "output_type": "stream",
     "text": [
      "Model: \"sequential_4\"\n",
      "_________________________________________________________________\n",
      " Layer (type)                Output Shape              Param #   \n",
      "=================================================================\n",
      " dense_16 (Dense)            (None, 64)                2112      \n",
      "                                                                 \n",
      " dense_17 (Dense)            (None, 32)                2080      \n",
      "                                                                 \n",
      " dense_18 (Dense)            (None, 16)                528       \n",
      "                                                                 \n",
      " dense_19 (Dense)            (None, 1)                 17        \n",
      "                                                                 \n",
      "=================================================================\n",
      "Total params: 4,737\n",
      "Trainable params: 4,737\n",
      "Non-trainable params: 0\n",
      "_________________________________________________________________\n"
     ]
    }
   ],
   "source": [
    "num_dens_layers=4     \n",
    "n_nodes=[64, 32,16, 1]\n",
    "learning_rate=1e-3\n",
    "\n",
    "model = Sequential()\n",
    "model.add(Dense(n_nodes[0], kernel_initializer='normal',input_dim = features.shape[1], activation='relu')) # first hidden layer\n",
    "# model.add(Dropout(0.5))\n",
    "for i in range(1,num_dens_layers): # loop through the rest of hidden layers\n",
    "    model.add(Dense(n_nodes[i], kernel_initializer='normal',activation='relu'))    \n",
    "\n",
    "model.compile(loss='mean_absolute_error', optimizer=Adam(learning_rate=learning_rate), metrics=['mean_absolute_error'])\n",
    "model.summary()"
   ]
  },
  {
   "cell_type": "code",
   "execution_count": 27,
   "id": "3cccc3a8",
   "metadata": {},
   "outputs": [
    {
     "name": "stdout",
     "output_type": "stream",
     "text": [
      "Epoch 1/50\n",
      "55/55 [==============================] - 1s 4ms/step - loss: 0.9456 - mean_absolute_error: 0.9456 - val_loss: 0.2468 - val_mean_absolute_error: 0.2468 - lr: 0.0010\n",
      "Epoch 2/50\n",
      "55/55 [==============================] - 0s 3ms/step - loss: 0.1566 - mean_absolute_error: 0.1566 - val_loss: 0.1309 - val_mean_absolute_error: 0.1309 - lr: 0.0010\n",
      "Epoch 3/50\n",
      "55/55 [==============================] - 0s 3ms/step - loss: 0.1116 - mean_absolute_error: 0.1116 - val_loss: 0.1059 - val_mean_absolute_error: 0.1059 - lr: 0.0010\n",
      "Epoch 4/50\n",
      "55/55 [==============================] - 0s 3ms/step - loss: 0.0948 - mean_absolute_error: 0.0948 - val_loss: 0.0947 - val_mean_absolute_error: 0.0947 - lr: 0.0010\n",
      "Epoch 5/50\n",
      "55/55 [==============================] - 0s 3ms/step - loss: 0.0870 - mean_absolute_error: 0.0870 - val_loss: 0.0878 - val_mean_absolute_error: 0.0878 - lr: 0.0010\n",
      "Epoch 6/50\n",
      "55/55 [==============================] - 0s 3ms/step - loss: 0.0779 - mean_absolute_error: 0.0779 - val_loss: 0.0859 - val_mean_absolute_error: 0.0859 - lr: 0.0010\n",
      "Epoch 7/50\n",
      "55/55 [==============================] - 0s 3ms/step - loss: 0.0730 - mean_absolute_error: 0.0730 - val_loss: 0.0790 - val_mean_absolute_error: 0.0790 - lr: 0.0010\n",
      "Epoch 8/50\n",
      "55/55 [==============================] - 0s 3ms/step - loss: 0.0694 - mean_absolute_error: 0.0694 - val_loss: 0.0743 - val_mean_absolute_error: 0.0743 - lr: 0.0010\n",
      "Epoch 9/50\n",
      "55/55 [==============================] - 0s 3ms/step - loss: 0.0671 - mean_absolute_error: 0.0671 - val_loss: 0.0735 - val_mean_absolute_error: 0.0735 - lr: 0.0010\n",
      "Epoch 10/50\n",
      "55/55 [==============================] - 0s 3ms/step - loss: 0.0653 - mean_absolute_error: 0.0653 - val_loss: 0.0757 - val_mean_absolute_error: 0.0757 - lr: 0.0010\n",
      "Epoch 11/50\n",
      "55/55 [==============================] - 0s 3ms/step - loss: 0.0651 - mean_absolute_error: 0.0651 - val_loss: 0.0694 - val_mean_absolute_error: 0.0694 - lr: 0.0010\n",
      "Epoch 12/50\n",
      "55/55 [==============================] - 0s 3ms/step - loss: 0.0638 - mean_absolute_error: 0.0638 - val_loss: 0.0693 - val_mean_absolute_error: 0.0693 - lr: 0.0010\n",
      "Epoch 13/50\n",
      "55/55 [==============================] - 0s 3ms/step - loss: 0.0612 - mean_absolute_error: 0.0612 - val_loss: 0.0675 - val_mean_absolute_error: 0.0675 - lr: 0.0010\n",
      "Epoch 14/50\n",
      "55/55 [==============================] - 0s 3ms/step - loss: 0.0601 - mean_absolute_error: 0.0601 - val_loss: 0.0684 - val_mean_absolute_error: 0.0684 - lr: 0.0010\n",
      "Epoch 15/50\n",
      "55/55 [==============================] - 0s 3ms/step - loss: 0.0596 - mean_absolute_error: 0.0596 - val_loss: 0.0664 - val_mean_absolute_error: 0.0664 - lr: 0.0010\n",
      "Epoch 16/50\n",
      "55/55 [==============================] - 0s 3ms/step - loss: 0.0598 - mean_absolute_error: 0.0598 - val_loss: 0.0678 - val_mean_absolute_error: 0.0678 - lr: 0.0010\n",
      "Epoch 17/50\n",
      "55/55 [==============================] - 0s 3ms/step - loss: 0.0576 - mean_absolute_error: 0.0576 - val_loss: 0.0645 - val_mean_absolute_error: 0.0645 - lr: 0.0010\n",
      "Epoch 18/50\n",
      "55/55 [==============================] - 0s 3ms/step - loss: 0.0586 - mean_absolute_error: 0.0586 - val_loss: 0.0647 - val_mean_absolute_error: 0.0647 - lr: 0.0010\n",
      "Epoch 19/50\n",
      "55/55 [==============================] - 0s 3ms/step - loss: 0.0562 - mean_absolute_error: 0.0562 - val_loss: 0.0636 - val_mean_absolute_error: 0.0636 - lr: 0.0010\n",
      "Epoch 20/50\n",
      "55/55 [==============================] - 0s 3ms/step - loss: 0.0567 - mean_absolute_error: 0.0567 - val_loss: 0.0634 - val_mean_absolute_error: 0.0634 - lr: 0.0010\n",
      "Epoch 21/50\n",
      "55/55 [==============================] - 0s 3ms/step - loss: 0.0566 - mean_absolute_error: 0.0566 - val_loss: 0.0642 - val_mean_absolute_error: 0.0642 - lr: 0.0010\n",
      "Epoch 22/50\n",
      "55/55 [==============================] - 0s 3ms/step - loss: 0.0550 - mean_absolute_error: 0.0550 - val_loss: 0.0628 - val_mean_absolute_error: 0.0628 - lr: 0.0010\n",
      "Epoch 23/50\n",
      "55/55 [==============================] - 0s 4ms/step - loss: 0.0543 - mean_absolute_error: 0.0543 - val_loss: 0.0633 - val_mean_absolute_error: 0.0633 - lr: 0.0010\n",
      "Epoch 24/50\n",
      "55/55 [==============================] - 0s 4ms/step - loss: 0.0536 - mean_absolute_error: 0.0536 - val_loss: 0.0652 - val_mean_absolute_error: 0.0652 - lr: 0.0010\n",
      "Epoch 25/50\n",
      "55/55 [==============================] - 0s 4ms/step - loss: 0.0548 - mean_absolute_error: 0.0548 - val_loss: 0.0634 - val_mean_absolute_error: 0.0634 - lr: 0.0010\n",
      "Epoch 26/50\n",
      "55/55 [==============================] - 0s 3ms/step - loss: 0.0541 - mean_absolute_error: 0.0541 - val_loss: 0.0634 - val_mean_absolute_error: 0.0634 - lr: 0.0010\n",
      "Epoch 27/50\n",
      "55/55 [==============================] - 0s 3ms/step - loss: 0.0546 - mean_absolute_error: 0.0546 - val_loss: 0.0619 - val_mean_absolute_error: 0.0619 - lr: 0.0010\n",
      "Epoch 28/50\n",
      "55/55 [==============================] - 0s 4ms/step - loss: 0.0530 - mean_absolute_error: 0.0530 - val_loss: 0.0625 - val_mean_absolute_error: 0.0625 - lr: 0.0010\n",
      "Epoch 29/50\n",
      "55/55 [==============================] - 0s 3ms/step - loss: 0.0529 - mean_absolute_error: 0.0529 - val_loss: 0.0613 - val_mean_absolute_error: 0.0613 - lr: 0.0010\n",
      "Epoch 30/50\n",
      "55/55 [==============================] - 0s 3ms/step - loss: 0.0528 - mean_absolute_error: 0.0528 - val_loss: 0.0656 - val_mean_absolute_error: 0.0656 - lr: 0.0010\n",
      "Epoch 31/50\n",
      "55/55 [==============================] - 0s 3ms/step - loss: 0.0528 - mean_absolute_error: 0.0528 - val_loss: 0.0614 - val_mean_absolute_error: 0.0614 - lr: 0.0010\n",
      "Epoch 32/50\n",
      "55/55 [==============================] - 0s 3ms/step - loss: 0.0525 - mean_absolute_error: 0.0525 - val_loss: 0.0598 - val_mean_absolute_error: 0.0598 - lr: 0.0010\n",
      "Epoch 33/50\n",
      "55/55 [==============================] - 0s 3ms/step - loss: 0.0520 - mean_absolute_error: 0.0520 - val_loss: 0.0604 - val_mean_absolute_error: 0.0604 - lr: 0.0010\n",
      "Epoch 34/50\n",
      "55/55 [==============================] - 0s 3ms/step - loss: 0.0521 - mean_absolute_error: 0.0521 - val_loss: 0.0601 - val_mean_absolute_error: 0.0601 - lr: 0.0010\n",
      "Epoch 35/50\n",
      "55/55 [==============================] - 0s 3ms/step - loss: 0.0526 - mean_absolute_error: 0.0526 - val_loss: 0.0620 - val_mean_absolute_error: 0.0620 - lr: 0.0010\n",
      "Epoch 36/50\n",
      "55/55 [==============================] - 0s 4ms/step - loss: 0.0514 - mean_absolute_error: 0.0514 - val_loss: 0.0602 - val_mean_absolute_error: 0.0602 - lr: 0.0010\n",
      "Epoch 37/50\n",
      "47/55 [========================>.....] - ETA: 0s - loss: 0.0518 - mean_absolute_error: 0.0518\n",
      "Epoch 37: ReduceLROnPlateau reducing learning rate to 0.0009000000427477062.\n",
      "55/55 [==============================] - 0s 3ms/step - loss: 0.0518 - mean_absolute_error: 0.0518 - val_loss: 0.0597 - val_mean_absolute_error: 0.0597 - lr: 0.0010\n",
      "Epoch 38/50\n",
      "55/55 [==============================] - 0s 3ms/step - loss: 0.0509 - mean_absolute_error: 0.0509 - val_loss: 0.0596 - val_mean_absolute_error: 0.0596 - lr: 9.0000e-04\n",
      "Epoch 39/50\n",
      "55/55 [==============================] - 0s 3ms/step - loss: 0.0508 - mean_absolute_error: 0.0508 - val_loss: 0.0636 - val_mean_absolute_error: 0.0636 - lr: 9.0000e-04\n",
      "Epoch 40/50\n",
      "55/55 [==============================] - 0s 3ms/step - loss: 0.0510 - mean_absolute_error: 0.0510 - val_loss: 0.0598 - val_mean_absolute_error: 0.0598 - lr: 9.0000e-04\n",
      "Epoch 41/50\n",
      "55/55 [==============================] - 0s 3ms/step - loss: 0.0501 - mean_absolute_error: 0.0501 - val_loss: 0.0590 - val_mean_absolute_error: 0.0590 - lr: 9.0000e-04\n",
      "Epoch 42/50\n",
      "55/55 [==============================] - 0s 3ms/step - loss: 0.0503 - mean_absolute_error: 0.0503 - val_loss: 0.0634 - val_mean_absolute_error: 0.0634 - lr: 9.0000e-04\n",
      "Epoch 43/50\n",
      "55/55 [==============================] - 0s 3ms/step - loss: 0.0541 - mean_absolute_error: 0.0541 - val_loss: 0.0645 - val_mean_absolute_error: 0.0645 - lr: 9.0000e-04\n",
      "Epoch 44/50\n",
      "55/55 [==============================] - 0s 4ms/step - loss: 0.0501 - mean_absolute_error: 0.0501 - val_loss: 0.0597 - val_mean_absolute_error: 0.0597 - lr: 9.0000e-04\n",
      "Epoch 45/50\n",
      "55/55 [==============================] - 0s 4ms/step - loss: 0.0508 - mean_absolute_error: 0.0508 - val_loss: 0.0597 - val_mean_absolute_error: 0.0597 - lr: 9.0000e-04\n",
      "Epoch 46/50\n"
     ]
    },
    {
     "name": "stdout",
     "output_type": "stream",
     "text": [
      "38/55 [===================>..........] - ETA: 0s - loss: 0.0508 - mean_absolute_error: 0.0508\n",
      "Epoch 46: ReduceLROnPlateau reducing learning rate to 0.0008100000384729356.\n",
      "55/55 [==============================] - 0s 3ms/step - loss: 0.0500 - mean_absolute_error: 0.0500 - val_loss: 0.0598 - val_mean_absolute_error: 0.0598 - lr: 9.0000e-04\n",
      "Epoch 47/50\n",
      "55/55 [==============================] - 0s 3ms/step - loss: 0.0494 - mean_absolute_error: 0.0494 - val_loss: 0.0598 - val_mean_absolute_error: 0.0598 - lr: 8.1000e-04\n",
      "Epoch 48/50\n",
      "55/55 [==============================] - 0s 3ms/step - loss: 0.0492 - mean_absolute_error: 0.0492 - val_loss: 0.0597 - val_mean_absolute_error: 0.0597 - lr: 8.1000e-04\n",
      "Epoch 49/50\n",
      "55/55 [==============================] - 0s 3ms/step - loss: 0.0491 - mean_absolute_error: 0.0491 - val_loss: 0.0595 - val_mean_absolute_error: 0.0595 - lr: 8.1000e-04\n",
      "Epoch 50/50\n",
      "55/55 [==============================] - 0s 3ms/step - loss: 0.0492 - mean_absolute_error: 0.0492 - val_loss: 0.0617 - val_mean_absolute_error: 0.0617 - lr: 8.1000e-04\n",
      "CPU times: user 15.6 s, sys: 6.33 s, total: 21.9 s\n",
      "Wall time: 9.28 s\n"
     ]
    },
    {
     "data": {
      "image/png": "[encoded data removed]",
      "text/plain": [
       "<Figure size 640x480 with 1 Axes>"
      ]
     },
     "metadata": {},
     "output_type": "display_data"
    }
   ],
   "source": [
    "%%time\n",
    "\n",
    "batch_size=64\n",
    "\n",
    "with tf.device('/cpu:0'):\n",
    "\n",
    "    redlr=ReduceLROnPlateau(monitor='val_mean_absolute_error', factor=0.9, patience=5, min_lr=0, verbose=1)\n",
    "\n",
    "    history=model.fit(features_std, target, epochs=50, batch_size=batch_size, validation_split = 0.2, callbacks=redlr, verbose=True)\n",
    "\n",
    "    train_err=history.history['mean_absolute_error']\n",
    "\n",
    "    val_err=history.history['val_mean_absolute_error']\n",
    "\n",
    "    plt.figure()\n",
    "    plt.plot(train_err, label='Training')\n",
    "    plt.plot(val_err, label='Validation')\n",
    "    plt.xlabel('Epoch')\n",
    "    plt.ylabel('Loss')\n",
    "    plt.legend()"
   ]
  },
  {
   "cell_type": "code",
   "execution_count": 29,
   "id": "a4c27904",
   "metadata": {},
   "outputs": [
    {
     "name": "stdout",
     "output_type": "stream",
     "text": [
      "137/137 [==============================] - 0s 1ms/step\n"
     ]
    },
    {
     "data": {
      "image/png": "[encoded data removed]",
      "text/plain": [
       "<Figure size 600x600 with 1 Axes>"
      ]
     },
     "metadata": {},
     "output_type": "display_data"
    }
   ],
   "source": [
    "target_nn=model.predict(features_std)\n",
    "train_mae=mean_absolute_error(target,target_nn)\n",
    "train_rmse=np.sqrt(mean_squared_error(target,target_nn))\n",
    "train_r2=r2_score(target,target_nn)\n",
    "\n",
    "plt.figure(figsize=(6,6))\n",
    "plt.scatter(target,target_nn,c='b')\n",
    "plt.plot([0.8,2],[0.8,2],ls='--',c='k')\n",
    "plt.xlim([0.8,2])\n",
    "plt.ylim([0.8,2])\n",
    "plt.xticks(fontsize=14)\n",
    "plt.yticks(fontsize=14)\n",
    "plt.xlabel('True',fontsize=14)\n",
    "plt.ylabel('NN prediction',fontsize=14)\n",
    "plt.text(1,1.9,'MAE = '+str(np.round(train_mae,3)))\n",
    "plt.text(1,1.8,'R$^2$ = '+str(np.round(train_r2,3)))\n",
    "plt.show()"
   ]
  },
  {
   "cell_type": "markdown",
   "id": "c96c9473",
   "metadata": {},
   "source": [
    "## Save revised NN model"
   ]
  },
  {
   "cell_type": "code",
   "execution_count": 18,
   "id": "1672fd64",
   "metadata": {},
   "outputs": [
    {
     "name": "stdout",
     "output_type": "stream",
     "text": [
      "INFO:tensorflow:Assets written to: Models/NN_model/assets\n"
     ]
    }
   ],
   "source": [
    "!mkdir -p NN_model\n",
    "model.save('Models/NN_model_tuned/')"
   ]
  },
  {
   "cell_type": "code",
   "execution_count": 19,
   "id": "d8aa8c22",
   "metadata": {},
   "outputs": [
    {
     "name": "stdout",
     "output_type": "stream",
     "text": [
      "\u001b[0m\u001b[01;34massets\u001b[0m/  keras_metadata.pb  saved_model.pb  \u001b[01;34mvariables\u001b[0m/\r\n"
     ]
    }
   ],
   "source": [
    "ls Models/NN_model"
   ]
  },
  {
   "cell_type": "code",
   "execution_count": 20,
   "id": "652f159c",
   "metadata": {},
   "outputs": [
    {
     "name": "stdout",
     "output_type": "stream",
     "text": [
      "Model: \"sequential_2\"\n",
      "_________________________________________________________________\n",
      " Layer (type)                Output Shape              Param #   \n",
      "=================================================================\n",
      " dense_8 (Dense)             (None, 64)                2112      \n",
      "                                                                 \n",
      " dense_9 (Dense)             (None, 32)                2080      \n",
      "                                                                 \n",
      " dense_10 (Dense)            (None, 16)                528       \n",
      "                                                                 \n",
      " dense_11 (Dense)            (None, 1)                 17        \n",
      "                                                                 \n",
      "=================================================================\n",
      "Total params: 4,737\n",
      "Trainable params: 4,737\n",
      "Non-trainable params: 0\n",
      "_________________________________________________________________\n"
     ]
    }
   ],
   "source": [
    "NN_model = tf.keras.models.load_model('Models/NN_model_tuned/')\n",
    "\n",
    "# Check its architecture\n",
    "NN_model.summary()"
   ]
  },
  {
   "cell_type": "markdown",
   "id": "50827edf",
   "metadata": {},
   "source": [
    "## Save NN model and weights as HDF5"
   ]
  },
  {
   "cell_type": "code",
   "execution_count": 21,
   "id": "6d1026c4",
   "metadata": {},
   "outputs": [
    {
     "name": "stdout",
     "output_type": "stream",
     "text": [
      "Saved model to disk\n"
     ]
    }
   ],
   "source": [
    "model_json = model.to_json()\n",
    "with open(\"model_tuned.json\", \"w\") as json_file:\n",
    "    json_file.write(model_json)\n",
    "# serialize weights to HDF5\n",
    "model.save_weights(\"model_tuned.h5\")\n",
    "print(\"Saved model to disk\")"
   ]
  },
  {
   "cell_type": "code",
   "execution_count": null,
   "id": "1ab9ecdc",
   "metadata": {},
   "outputs": [],
   "source": []
  }
 ],
 "metadata": {
  "kernelspec": {
   "display_name": "ds",
   "language": "python",
   "name": "ds"
  },
  "language_info": {
   "codemirror_mode": {
    "name": "ipython",
    "version": 3
   },
   "file_extension": ".py",
   "mimetype": "text/x-python",
   "name": "python",
   "nbconvert_exporter": "python",
   "pygments_lexer": "ipython3",
   "version": "3.10.6"
  }
 },
 "nbformat": 4,
 "nbformat_minor": 5
}
