{
 "cells": [
  {
   "cell_type": "markdown",
   "id": "f87cfab4",
   "metadata": {},
   "source": [
    "## Author: Aditya Sundar\n",
    "## Email: aditya.1094@gmail.com\n",
    "\n",
    "## <font color='blue'>Electric vehicles (EVs) are predicted to be an integral part of modern, sustainable economies.  Replacing combustion engines with batteries reduces our carbon footprint and improves air quality. However, the current costs associated with researching & manufacturing batteries makes EVs more expensive. As such, it is crucial for the buyer to be informed about the pros and cons of purchasing EVs. The project is intended to help vehicle buyers make informed selections of EVs, by providing </font> <font color='red'> 1) interactive dashboards to explore the performance metrics of commercial EVs </font><font color='blue'>and<font> <font color='red'>2) models to estimate vehicle costs.</font>\n",
    "\n",
    "### Note: There is a heading before each cell or group of cells. Headings in black font denote code for data retrieval and cleaning. Headings in <font color='red'>red</font> font denote visualization codes that can be run directly using processed data."
   ]
  },
  {
   "cell_type": "code",
   "execution_count": 2,
   "id": "2f484e29",
   "metadata": {
    "scrolled": false
   },
   "outputs": [],
   "source": [
    "import pandas as pd \n",
    "import warnings\n",
    "warnings.filterwarnings(\"ignore\")\n",
    "import time\n",
    "import numpy as np\n",
    "import requests\n",
    "from bs4 import BeautifulSoup\n",
    "import plotly.express as px\n",
    "import plotly.graph_objects as go\n",
    "from plotly.subplots import make_subplots\n",
    "import ipywidgets as widgets\n",
    "import unicodedata\n",
    "import re\n",
    "import seaborn as sns\n",
    "import inspect\n",
    "import matplotlib.pyplot as plt"
   ]
  },
  {
   "cell_type": "markdown",
   "id": "af734969",
   "metadata": {},
   "source": [
    "# Web scraping to get data for electric vehicles (EV) sales in the USA\n",
    "Data includes various types of electric vehicles, manufactured by several automobile companies, showing purchasing trends from 2000 to 2022."
   ]
  },
  {
   "cell_type": "code",
   "execution_count": 279,
   "id": "b3cd5e29",
   "metadata": {},
   "outputs": [
    {
     "name": "stdout",
     "output_type": "stream",
     "text": [
      "['CA', 'CO', 'CT', 'FL', 'MT', 'MI', 'MN', 'NJ', 'NY', 'OR', 'TN', 'TX', 'VT', 'VA', 'WA', 'WI']\n"
     ]
    }
   ],
   "source": [
    "url = 'https://www.atlasevhub.com/materials/state-ev-registration-data/#data'\n",
    "reqs = requests.get(url)\n",
    "soup = BeautifulSoup(reqs.text, 'html.parser')\n",
    "\n",
    "links=[link.get('href') for link in soup.find_all('a') ]\n",
    "data=[i for i in links if len(i.split('/'))>1 and i.split('/')[1]=='public']\n",
    "data=[i for i in data if i.split('.')[-1]=='csv']\n",
    "state_name=[i.split('/')[3].split('_')[0].upper() for i in data]\n",
    "\n",
    "print(state_name)\n",
    "\n",
    "sn=3\n",
    "dt=[]\n",
    "for i in [data[sn]]:\n",
    "    dt.append(pd.read_csv('https://www.atlasevhub.com/'+i))"
   ]
  },
  {
   "cell_type": "markdown",
   "id": "c2beff84",
   "metadata": {},
   "source": [
    "## Data cleaning"
   ]
  },
  {
   "cell_type": "code",
   "execution_count": 280,
   "id": "46c64f86",
   "metadata": {},
   "outputs": [
    {
     "data": {
      "text/html": [
       "<div>\n",
       "<style scoped>\n",
       "    .dataframe tbody tr th:only-of-type {\n",
       "        vertical-align: middle;\n",
       "    }\n",
       "\n",
       "    .dataframe tbody tr th {\n",
       "        vertical-align: top;\n",
       "    }\n",
       "\n",
       "    .dataframe thead th {\n",
       "        text-align: right;\n",
       "    }\n",
       "</style>\n",
       "<table border=\"1\" class=\"dataframe\">\n",
       "  <thead>\n",
       "    <tr style=\"text-align: right;\">\n",
       "      <th></th>\n",
       "      <th>DMV ID</th>\n",
       "      <th>DMV Snapshot (Date)</th>\n",
       "      <th>County</th>\n",
       "      <th>Vehicle Name</th>\n",
       "      <th>Date</th>\n",
       "      <th>Make</th>\n",
       "    </tr>\n",
       "  </thead>\n",
       "  <tbody>\n",
       "    <tr>\n",
       "      <th>0</th>\n",
       "      <td>1</td>\n",
       "      <td>Registration Data from FPL (6/30/2018)</td>\n",
       "      <td>Dade</td>\n",
       "      <td>Tesla Model X</td>\n",
       "      <td>6/30/2018</td>\n",
       "      <td>Tesla</td>\n",
       "    </tr>\n",
       "    <tr>\n",
       "      <th>1</th>\n",
       "      <td>1</td>\n",
       "      <td>Registration Data from FPL (6/30/2018)</td>\n",
       "      <td>Dade</td>\n",
       "      <td>Tesla Model X</td>\n",
       "      <td>6/30/2018</td>\n",
       "      <td>Tesla</td>\n",
       "    </tr>\n",
       "    <tr>\n",
       "      <th>2</th>\n",
       "      <td>1</td>\n",
       "      <td>Registration Data from FPL (6/30/2018)</td>\n",
       "      <td>Dade</td>\n",
       "      <td>Tesla Model X</td>\n",
       "      <td>6/30/2018</td>\n",
       "      <td>Tesla</td>\n",
       "    </tr>\n",
       "    <tr>\n",
       "      <th>3</th>\n",
       "      <td>1</td>\n",
       "      <td>Registration Data from FPL (6/30/2018)</td>\n",
       "      <td>Dade</td>\n",
       "      <td>Tesla Model X</td>\n",
       "      <td>6/30/2018</td>\n",
       "      <td>Tesla</td>\n",
       "    </tr>\n",
       "    <tr>\n",
       "      <th>4</th>\n",
       "      <td>1</td>\n",
       "      <td>Registration Data from FPL (6/30/2018)</td>\n",
       "      <td>Dade</td>\n",
       "      <td>Tesla Model X</td>\n",
       "      <td>6/30/2018</td>\n",
       "      <td>Tesla</td>\n",
       "    </tr>\n",
       "  </tbody>\n",
       "</table>\n",
       "</div>"
      ],
      "text/plain": [
       "   DMV ID                     DMV Snapshot (Date) County   Vehicle Name  \\\n",
       "0       1  Registration Data from FPL (6/30/2018)   Dade  Tesla Model X   \n",
       "1       1  Registration Data from FPL (6/30/2018)   Dade  Tesla Model X   \n",
       "2       1  Registration Data from FPL (6/30/2018)   Dade  Tesla Model X   \n",
       "3       1  Registration Data from FPL (6/30/2018)   Dade  Tesla Model X   \n",
       "4       1  Registration Data from FPL (6/30/2018)   Dade  Tesla Model X   \n",
       "\n",
       "        Date   Make  \n",
       "0  6/30/2018  Tesla  \n",
       "1  6/30/2018  Tesla  \n",
       "2  6/30/2018  Tesla  \n",
       "3  6/30/2018  Tesla  \n",
       "4  6/30/2018  Tesla  "
      ]
     },
     "execution_count": 280,
     "metadata": {},
     "output_type": "execute_result"
    }
   ],
   "source": [
    "dt[0].head()\n",
    "dt[0]=dt[0].dropna(axis=1)\n",
    "dt[0].rename({'Registration Valid Date':'Date'},axis=1, inplace=True)\n",
    "dt[0]['Make'] = dt[0]['Vehicle Name'].str.split().str[0]\n",
    "dt[0].head()"
   ]
  },
  {
   "cell_type": "markdown",
   "id": "99a7af24",
   "metadata": {},
   "source": [
    "## Save data as json file"
   ]
  },
  {
   "cell_type": "code",
   "execution_count": 281,
   "id": "effe7211",
   "metadata": {},
   "outputs": [],
   "source": [
    "dt[0].to_json(state_name[sn]+'_EVdata.json',orient='records')"
   ]
  },
  {
   "cell_type": "code",
   "execution_count": 284,
   "id": "9f1cf907",
   "metadata": {},
   "outputs": [],
   "source": [
    "df=pd.read_json(state_name[sn]+'_EVdata.json', orient='records')"
   ]
  },
  {
   "cell_type": "markdown",
   "id": "cb7b7598",
   "metadata": {},
   "source": [
    "## Class to patch year and obtain cumulative sales from 2000-2022"
   ]
  },
  {
   "cell_type": "code",
   "execution_count": 285,
   "id": "2158893b",
   "metadata": {},
   "outputs": [],
   "source": [
    "class patch_year:\n",
    "    \n",
    "    start=2000\n",
    "    end=2021\n",
    "    \n",
    "    def __init__(self,state,data):\n",
    "        self.state=state\n",
    "        self.data=data\n",
    "            \n",
    "    def start_year(self):\n",
    "        return min(self.data['Date'].groupby(pd.to_datetime(self.data['Date']).dt.year).count().index)\n",
    "    \n",
    "    def end_year(self):\n",
    "        return max(self.data['Date'].groupby(pd.to_datetime(self.data['Date']).dt.year).count().index)\n",
    "    \n",
    "    def cumulative_sales(self):\n",
    "        cum_sum=self.data.groupby(pd.to_datetime(self.data['Date']).dt.year).count()['Date'].cumsum()\n",
    "        year_data=cum_sales.index\n",
    "        cum_sales[self.start]=0\n",
    "        for y in range(self.start+1,self.end+1,1):\n",
    "            if y not in year_data:\n",
    "                cum_sales[y]=cum_sales[y-1]\n",
    "        return cum_sales.sort_index()\n",
    "\n",
    "p = patch_year(state_name[sn],df)"
   ]
  },
  {
   "cell_type": "code",
   "execution_count": null,
   "id": "fa397714",
   "metadata": {},
   "outputs": [],
   "source": []
  }
 ],
 "metadata": {
  "kernelspec": {
   "display_name": "Python 3 (ipykernel)",
   "language": "python",
   "name": "python3"
  },
  "language_info": {
   "codemirror_mode": {
    "name": "ipython",
    "version": 3
   },
   "file_extension": ".py",
   "mimetype": "text/x-python",
   "name": "python",
   "nbconvert_exporter": "python",
   "pygments_lexer": "ipython3",
   "version": "3.8.11"
  }
 },
 "nbformat": 4,
 "nbformat_minor": 5
}
