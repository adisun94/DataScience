{
 "cells": [
  {
   "cell_type": "markdown",
   "id": "f87cfab4",
   "metadata": {},
   "source": [
    "## Author: Aditya Sundar\n",
    "## Email: aditya.1094@gmail.com\n",
    "\n",
    "## <font color='blue'>Electric vehicles (EVs) are predicted to be an integral part of modern, sustainable economies.  Replacing combustion engines with batteries reduces our carbon footprint and improves air quality. However, the current costs associated with researching & manufacturing batteries makes EVs more expensive. As such, it is crucial for the buyer to be informed about the pros and cons of purchasing EVs. The project is intended to help vehicle buyers make informed selections of EVs, by providing </font> <font color='red'> 1) interactive dashboards to explore the performance metrics of commercial EVs </font><font color='blue'>and<font> <font color='red'>2) models to estimate vehicle costs.</font>\n",
    "\n",
    "### Note: There is a heading before each cell or group of cells. Headings in black font denote code for data retrieval and cleaning. Headings in <font color='red'>red</font> font denote visualization codes that can be run directly using processed data."
   ]
  },
  {
   "cell_type": "code",
   "execution_count": 4,
   "id": "2f484e29",
   "metadata": {
    "scrolled": false
   },
   "outputs": [],
   "source": [
    "import pandas as pd \n",
    "import warnings\n",
    "warnings.filterwarnings(\"ignore\")\n",
    "import time\n",
    "import numpy as np\n",
    "import requests\n",
    "from bs4 import BeautifulSoup\n",
    "import plotly.express as px\n",
    "import plotly.graph_objects as go\n",
    "from plotly.subplots import make_subplots\n",
    "import ipywidgets as widgets\n",
    "import unicodedata\n",
    "import re\n",
    "import seaborn as sns\n",
    "import inspect\n",
    "import matplotlib.pyplot as plt"
   ]
  },
  {
   "cell_type": "markdown",
   "id": "af734969",
   "metadata": {},
   "source": [
    "# Web scraping to get data for electric vehicles (EV) sales in the USA\n",
    "Data includes various types of electric vehicles, manufactured by several automobile companies, showing purchasing trends from 2000 to 2022."
   ]
  },
  {
   "cell_type": "code",
   "execution_count": 12,
   "id": "b3cd5e29",
   "metadata": {},
   "outputs": [],
   "source": [
    "url = 'https://www.atlasevhub.com/materials/state-ev-registration-data/#data'\n",
    "reqs = requests.get(url)\n",
    "soup = BeautifulSoup(reqs.text, 'html.parser')\n",
    "\n",
    "links=[link.get('href') for link in soup.find_all('a') ]\n",
    "data=[i for i in links if len(i.split('/'))>1 and i.split('/')[1]=='public']\n",
    "data=[i for i in data if i.split('.')[-1]=='csv']\n",
    "state_name=[i.split('/')[3].split('_')[0].upper() for i in data]\n",
    "\n",
    "dt=[]\n",
    "for i in [data[-2]]:\n",
    "    dt.append(pd.read_csv('https://www.atlasevhub.com/'+i))"
   ]
  },
  {
   "cell_type": "code",
   "execution_count": null,
   "id": "64a7058f",
   "metadata": {},
   "outputs": [],
   "source": []
  }
 ],
 "metadata": {
  "kernelspec": {
   "display_name": "Python 3 (ipykernel)",
   "language": "python",
   "name": "python3"
  },
  "language_info": {
   "codemirror_mode": {
    "name": "ipython",
    "version": 3
   },
   "file_extension": ".py",
   "mimetype": "text/x-python",
   "name": "python",
   "nbconvert_exporter": "python",
   "pygments_lexer": "ipython3",
   "version": "3.8.11"
  }
 },
 "nbformat": 4,
 "nbformat_minor": 5
}
